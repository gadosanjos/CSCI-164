{
 "cells": [
  {
   "cell_type": "markdown",
   "id": "a608e730",
   "metadata": {},
   "source": [
    "Input and output features\n",
    "In scikit-learn, most estimators require that the input and output features are passed as separate dataframes or arrays. The usual notation is to set X as a dataframe of input features and y as a dataframe containing just the output feature. Double brackets are used to select specific features from a dataframe. Ex: X = df[['x1', 'x2']] creates a new dataframe X containing the features x1 and x2 from the original dataframe df.\n",
    "\n",
    "Occasionally, the output feature should be stored in array format. When an array is needed, the function np.ravel() from NumPy flattens a dataframe into an array. Using df.head() will print the first few rows of a dataframe df, which can be used to verify the input and output dataframes are as expected."
   ]
  },
  {
   "cell_type": "code",
   "execution_count": 1,
   "id": "33d40a7a",
   "metadata": {},
   "outputs": [],
   "source": [
    "import numpy as np\n",
    "import pandas as pd\n",
    "import matplotlib.pyplot as plt\n",
    "import seaborn as sns\n",
    "\n",
    "from sklearn.linear_model import LinearRegression"
   ]
  },
  {
   "cell_type": "code",
   "execution_count": 3,
   "id": "9fac8137",
   "metadata": {},
   "outputs": [
    {
     "data": {
      "text/html": [
       "<div>\n",
       "<style scoped>\n",
       "    .dataframe tbody tr th:only-of-type {\n",
       "        vertical-align: middle;\n",
       "    }\n",
       "\n",
       "    .dataframe tbody tr th {\n",
       "        vertical-align: top;\n",
       "    }\n",
       "\n",
       "    .dataframe thead th {\n",
       "        text-align: right;\n",
       "    }\n",
       "</style>\n",
       "<table border=\"1\" class=\"dataframe\">\n",
       "  <thead>\n",
       "    <tr style=\"text-align: right;\">\n",
       "      <th></th>\n",
       "      <th>distance</th>\n",
       "      <th>cab_type</th>\n",
       "      <th>time_stamp</th>\n",
       "      <th>destination</th>\n",
       "      <th>source</th>\n",
       "      <th>price</th>\n",
       "      <th>surge_multiplier</th>\n",
       "      <th>id</th>\n",
       "      <th>product_id</th>\n",
       "      <th>name</th>\n",
       "    </tr>\n",
       "  </thead>\n",
       "  <tbody>\n",
       "    <tr>\n",
       "      <th>0</th>\n",
       "      <td>0.44</td>\n",
       "      <td>Lyft</td>\n",
       "      <td>1.544950e+12</td>\n",
       "      <td>North Station</td>\n",
       "      <td>Haymarket Square</td>\n",
       "      <td>5.0</td>\n",
       "      <td>1.0</td>\n",
       "      <td>424553bb-7174-41ea-aeb4-fe06d4f4b9d7</td>\n",
       "      <td>lyft_line</td>\n",
       "      <td>Shared</td>\n",
       "    </tr>\n",
       "    <tr>\n",
       "      <th>1</th>\n",
       "      <td>0.44</td>\n",
       "      <td>Lyft</td>\n",
       "      <td>1.543280e+12</td>\n",
       "      <td>North Station</td>\n",
       "      <td>Haymarket Square</td>\n",
       "      <td>11.0</td>\n",
       "      <td>1.0</td>\n",
       "      <td>4bd23055-6827-41c6-b23b-3c491f24e74d</td>\n",
       "      <td>lyft_premier</td>\n",
       "      <td>Lux</td>\n",
       "    </tr>\n",
       "  </tbody>\n",
       "</table>\n",
       "</div>"
      ],
      "text/plain": [
       "   distance cab_type    time_stamp    destination            source  price  \\\n",
       "0      0.44     Lyft  1.544950e+12  North Station  Haymarket Square    5.0   \n",
       "1      0.44     Lyft  1.543280e+12  North Station  Haymarket Square   11.0   \n",
       "\n",
       "   surge_multiplier                                    id    product_id  \\\n",
       "0               1.0  424553bb-7174-41ea-aeb4-fe06d4f4b9d7     lyft_line   \n",
       "1               1.0  4bd23055-6827-41c6-b23b-3c491f24e74d  lyft_premier   \n",
       "\n",
       "     name  \n",
       "0  Shared  \n",
       "1     Lux  "
      ]
     },
     "execution_count": 3,
     "metadata": {},
     "output_type": "execute_result"
    }
   ],
   "source": [
    "# Load the dataset and drop instances with missing values\n",
    "rides = pd.read_csv(\"cab_rides.csv\").dropna()\n",
    "rides.head(2)"
   ]
  },
  {
   "cell_type": "code",
   "execution_count": 4,
   "id": "da0f84a0",
   "metadata": {},
   "outputs": [
    {
     "data": {
      "text/html": [
       "<div>\n",
       "<style scoped>\n",
       "    .dataframe tbody tr th:only-of-type {\n",
       "        vertical-align: middle;\n",
       "    }\n",
       "\n",
       "    .dataframe tbody tr th {\n",
       "        vertical-align: top;\n",
       "    }\n",
       "\n",
       "    .dataframe thead th {\n",
       "        text-align: right;\n",
       "    }\n",
       "</style>\n",
       "<table border=\"1\" class=\"dataframe\">\n",
       "  <thead>\n",
       "    <tr style=\"text-align: right;\">\n",
       "      <th></th>\n",
       "      <th>distance</th>\n",
       "    </tr>\n",
       "  </thead>\n",
       "  <tbody>\n",
       "    <tr>\n",
       "      <th>0</th>\n",
       "      <td>0.44</td>\n",
       "    </tr>\n",
       "    <tr>\n",
       "      <th>1</th>\n",
       "      <td>0.44</td>\n",
       "    </tr>\n",
       "  </tbody>\n",
       "</table>\n",
       "</div>"
      ],
      "text/plain": [
       "   distance\n",
       "0      0.44\n",
       "1      0.44"
      ]
     },
     "execution_count": 4,
     "metadata": {},
     "output_type": "execute_result"
    }
   ],
   "source": [
    "# X = dataframe of input features\n",
    "X = rides[['distance']]\n",
    "X.head(2)"
   ]
  },
  {
   "cell_type": "code",
   "execution_count": 5,
   "id": "68c58e72",
   "metadata": {},
   "outputs": [
    {
     "data": {
      "text/html": [
       "<div>\n",
       "<style scoped>\n",
       "    .dataframe tbody tr th:only-of-type {\n",
       "        vertical-align: middle;\n",
       "    }\n",
       "\n",
       "    .dataframe tbody tr th {\n",
       "        vertical-align: top;\n",
       "    }\n",
       "\n",
       "    .dataframe thead th {\n",
       "        text-align: right;\n",
       "    }\n",
       "</style>\n",
       "<table border=\"1\" class=\"dataframe\">\n",
       "  <thead>\n",
       "    <tr style=\"text-align: right;\">\n",
       "      <th></th>\n",
       "      <th>price</th>\n",
       "    </tr>\n",
       "  </thead>\n",
       "  <tbody>\n",
       "    <tr>\n",
       "      <th>0</th>\n",
       "      <td>5.0</td>\n",
       "    </tr>\n",
       "    <tr>\n",
       "      <th>1</th>\n",
       "      <td>11.0</td>\n",
       "    </tr>\n",
       "  </tbody>\n",
       "</table>\n",
       "</div>"
      ],
      "text/plain": [
       "   price\n",
       "0    5.0\n",
       "1   11.0"
      ]
     },
     "execution_count": 5,
     "metadata": {},
     "output_type": "execute_result"
    }
   ],
   "source": [
    "# y = dataframe of the output feature\n",
    "y = rides[['price']]\n",
    "y.head(2)"
   ]
  },
  {
   "cell_type": "code",
   "execution_count": 5,
   "id": "d812ddb2",
   "metadata": {},
   "outputs": [
    {
     "data": {
      "text/plain": [
       "array([ 5. , 11. ,  7. , 26. ,  9. , 16.5, 10.5, 16.5,  3. , 27.5, 13.5,\n",
       "        7. , 12. , 16. ,  7.5,  7.5, 26. ,  5.5, 11. , 16.5,  7. ,  3.5,\n",
       "       26. , 13.5,  8.5, 15. , 20.5,  8.5,  7. , 27.5,  3.5, 11. , 19.5,\n",
       "       26. , 16.5, 29.5,  9.5, 15. ,  9.5, 22. ,  9. ,  5. ,  9. , 16.5,\n",
       "       26. , 13.5, 19.5,  7. ,  9. , 10.5,  3. ,  5. , 13.5, 11. , 26. ,\n",
       "       16.5,  7. ,  9.5, 16.5,  7. ,  9.5, 27.5, 13. ,  9.5,  9.5,  7. ,\n",
       "       13.5, 26. , 13.5,  5. , 16.5,  9.5,  9.5, 17. , 10. , 34. , 26. ,\n",
       "       18.5, 11. , 11. , 11. , 36. , 27.5, 22.5, 16.5, 10.5, 32.5, 19.5,\n",
       "        7. , 25. , 12. , 12. , 18.5, 32.5, 11. , 27. , 12. , 18.5, 12. ,\n",
       "        8.5, 35. ,  8. , 13. ,  8. , 27. , 17. ,  8. , 13.5, 23.5, 14. ,\n",
       "       34. , 26.5, 14. , 26.5, 12. , 11. , 19.5, 12. , 38.5, 23. , 30.5,\n",
       "       10.5, 10.5, 17.5, 10. , 22.5,  7. , 13.5, 16.5, 27.5,  9. ,  9. ,\n",
       "       30. , 16.5, 13.5, 22.5,  7. , 14. , 20.5,  9.5,  9.5,  8.5, 13.5,\n",
       "       26. , 16.5, 11. , 16.5, 13.5,  5. , 27.5,  7. , 10.5, 11. , 36.5,\n",
       "       20.5, 12.5, 12.5, 27. ,  7. ,  3. , 13.5, 16.5, 10.5, 27.5, 16.5,\n",
       "        7. ,  5. , 13.5, 27.5, 10.5, 11. , 33.5, 23. , 11. ,  9.5, 17.5,\n",
       "       29.5,  9.5, 15. , 27. , 19.5, 17.5, 10. , 14. , 10.5, 10.5,  9.5,\n",
       "        9. , 30. ,  3.5, 16.5, 22.5, 13.5,  7. , 16.5, 32.5, 19.5, 10.5,\n",
       "       22.5, 15. , 11. , 21.5, 15. , 23.5, 35. ,  7. , 11. , 16.5,  5. ,\n",
       "       26. ,  9. , 38. , 22.5,  7. , 11. , 19.5, 26. ,  8.5, 18. , 10.5,\n",
       "       23. , 33. , 10.5, 10.5, 32. , 23. , 10.5, 22.5, 27.5, 16.5, 13.5,\n",
       "       38.5,  9.5, 21.5,  9.5, 30.5, 17. ,  9.5,  7.5,  7.5,  6.5, 26.5,\n",
       "       11.5, 17. , 34. ,  7. ,  9. , 13.5, 19.5, 16.5, 16.5, 27.5,  7. ,\n",
       "       10.5, 32.5, 22.5,  5. , 27.5,  7. , 10.5, 13.5, 16.5, 11.5, 19.5,\n",
       "       11.5, 18. ,  9. , 31.5, 32.5,  7. , 19.5, 16.5, 27.5, 10.5,  8.5,\n",
       "        8.5,  8.5, 13.5, 18. , 28.5, 19.5,  7. , 16.5, 32.5, 22.5, 10.5,\n",
       "       27.5, 16.5,  5. ,  7. , 13.5, 10.5,  9. ,  9. , 28.5,  8.5, 19.5,\n",
       "       11. ,  7. , 26. , 34. , 22.5,  7. , 16.5, 22.5, 13.5, 27.5,  9. ,\n",
       "       10.5, 16.5, 10.5, 27.5,  3. ,  7. , 11. , 33. , 24. ,  8. , 18. ,\n",
       "       11. , 27. ,  7. , 16. ,  8.5,  8.5, 12.5, 16. ,  8.5, 21.5, 29. ,\n",
       "        8.5,  8. , 26. ,  7. ,  7. , 16. ,  7.5, 11.5, 30.5, 11.5, 15. ,\n",
       "       19.5, 11.5,  8.5, 11. , 22.5, 38. , 30. ,  7. , 19.5, 26. , 34. ,\n",
       "        7. , 19.5,  9. , 16.5,  7. , 10.5, 10.5, 27.5, 16.5,  3. ,  9. ,\n",
       "       16. , 23. , 31. ,  9.5,  9.5,  7.5, 26. , 16. ,  7. ,  7. , 11.5,\n",
       "        7. , 32.5, 27.5,  7. , 10.5, 16.5, 10.5, 22.5, 16.5, 13.5, 32.5,\n",
       "       22.5, 10.5, 34. , 23. , 10.5, 16. , 10. , 27.5,  9. , 16. ,  9. ,\n",
       "        9. , 14. ,  7. , 12.5, 26. ,  7.5, 17. ,  7.5, 11. , 34. , 11. ,\n",
       "       17. , 25. , 11. ,  3.5, 11. , 11. , 16.5, 26. ,  7. , 34. , 16.5,\n",
       "        5. , 26. , 11. , 19.5, 16.5, 13. ,  8.5,  8.5, 26.5,  6.5,  7. ,\n",
       "       13.5, 22.5, 26. , 30. , 42.5,  7.5, 27.5, 10.5, 15. ,  7.5,  7.5,\n",
       "       11. ,  7. , 34. , 19.5, 16.5, 26. , 15. ,  9.5,  9. , 28.5, 20.5,\n",
       "        9.5, 27.5, 19.5, 10.5, 32.5, 16.5,  7. , 27.5, 16.5, 10.5,  7. ,\n",
       "       13.5,  3. ,  7. , 10.5, 19.5, 27.5, 38.5, 22.5, 15. , 27. , 12.5,\n",
       "       12.5, 18.5, 12. , 16. , 17. ,  9. , 10.5, 32.5, 22. , 10.5,  9.5,\n",
       "       17. ,  9.5, 13. ,  6.5, 27.5,  8. ,  8. , 18.5, 14. ,  8. , 26. ,\n",
       "        8.5,  8.5, 17. , 26. , 13. , 13.5, 16.5, 10.5,  3. ,  7. , 27.5,\n",
       "       35. , 13. , 13. , 23.5, 23. , 11. , 11.5, 21.5, 11.5, 10. , 16.5,\n",
       "       28.5, 10.5, 10. , 24. , 17.5, 30.5, 10.5, 13. , 26. ,  7. ,  7. ,\n",
       "        7.5, 10.5, 16. ,  7. ,  7. , 27.5, 11.5,  6.5, 15. , 10.5, 16. ,\n",
       "        9. , 33.5, 25. , 10.5, 26. , 41. , 21.5, 10.5,  9.5, 10.5, 11. ,\n",
       "       13.5,  7. , 16.5,  3.5, 26. , 23. , 17.5, 11. , 11. , 10. , 31.5,\n",
       "        5. ,  9. , 16.5, 22.5, 13.5, 32.5, 10.5,  5.5,  7.5,  7.5, 26. ,\n",
       "       16. , 15. ,  7. , 10.5,  7. , 26. , 16. ,  5.5,  7. , 13.5, 22.5,\n",
       "       42.5, 34. , 26. ,  9. , 10.5, 24. , 16.5, 10.5, 32. ,  8.5, 16.5,\n",
       "       23. ,  9.5, 31. , 10.5, 10.5, 32.5, 19.5, 10.5, 16.5, 22.5, 38.5,\n",
       "       32.5, 22.5, 26.5, 12.5,  7. ,  7. ,  9.5,  7. , 26. ,  5.5, 16. ,\n",
       "        7. , 16.5, 19.5, 13.5, 30. ,  9. , 29.5,  9. , 16. ,  9. , 18.5,\n",
       "        8.5, 38. , 11. , 11. , 29.5, 19. , 10. , 19.5, 13.5, 13.5,  3. ,\n",
       "        7. , 27.5, 30. , 13.5, 22.5, 16.5, 42.5, 52.5, 67.5, 38. , 22.5,\n",
       "       11. , 10.5, 28.5, 16.5, 21.5, 10.5,  8.5, 16.5,  5. , 13.5, 27.5,\n",
       "       19.5,  9. , 32.5, 10.5, 13.5, 16.5, 22.5,  7. ,  9. , 29.5,  8. ,\n",
       "       15.5, 21. ,  9. ,  7. , 16.5, 32.5, 19.5, 10.5, 22.5, 27.5, 10.5,\n",
       "        7. , 16.5,  5. , 13.5, 13.5, 27.5,  3. ,  7. , 16.5, 10.5, 30. ,\n",
       "        7. ,  9. , 22.5, 16.5, 27.5, 16.5,  7. , 13.5,  3. , 10.5, 27.5,\n",
       "       32.5,  9. , 45.5, 22.5, 13.5, 11.5,  7.5, 26. ,  7.5,  7.5, 15. ,\n",
       "       38. , 22.5, 19.5,  7. , 26. , 11. , 19.5, 26. , 13.5,  5. ,  7. ,\n",
       "       13.5, 16.5, 21.5, 10.5, 30.5, 10.5,  8.5, 26. ,  5. ,  9. ,  7. ,\n",
       "       16.5, 11. ,  8.5, 28.5, 13.5,  8.5, 18. ,  8.5,  9. ,  9.5, 19. ,\n",
       "        9.5, 28. , 15. , 27.5,  9. ,  8. , 11.5,  9. , 15. , 12. ,  8. ,\n",
       "        8. , 26. ,  6.5, 16. ,  9.5, 29.5, 14. ,  8. ,  9.5, 18.5, 13.5,\n",
       "       16.5,  7. , 27.5, 10.5,  5. , 22.5, 10.5, 32.5,  7. , 16.5, 27.5,\n",
       "        7. , 15. ,  5.5,  7. , 27.5, 10.5,  9.5, 22. , 16. ,  9.5,  9.5,\n",
       "       29. ,  7. ,  9. , 27.5,  5. , 19.5, 13.5, 16.5, 24. , 17.5, 13.5,\n",
       "        8.5,  8.5,  8.5, 12. , 12. , 10. , 18.5, 34. , 25. , 32. , 24. ,\n",
       "       10. ,  9.5, 18.5,  9.5, 16.5, 34. , 19.5,  3.5, 11. , 26. , 16.5,\n",
       "        7. , 22.5, 19.5, 32.5, 10.5,  9. , 30. , 26. , 13.5, 22.5, 42.5,\n",
       "       27.5, 26.5,  8. ,  8. , 18. ,  7. , 12. ,  7. , 27.5, 15. ,  7. ,\n",
       "        7.5, 10.5, 19.5, 29.5, 12. , 12. , 37.5, 10. , 13.5, 13.5, 19.5,\n",
       "        9. , 26. ,  5. , 32.5,  9. , 27.5, 38.5, 13.5, 22.5,  7.5,  7.5,\n",
       "       27.5, 11. ,  7.5, 15. , 27.5, 10.5,  3. , 16.5, 13.5,  7. , 13. ,\n",
       "       17. ,  7.5, 27. ,  7.5,  7.5, 10.5,  7. , 15. , 27.5,  7. ,  7. ,\n",
       "       22.5, 26. , 19.5,  7. , 38. , 11. , 26. , 22.5,  9. , 42.5, 13.5,\n",
       "       34. ,  7. ,  9. , 13.5, 16.5, 27.5, 10.5, 22.5, 38.5, 16.5,  7. ,\n",
       "        3.5, 11. , 26. ,  7. , 16.5,  9. ])"
      ]
     },
     "execution_count": 5,
     "metadata": {},
     "output_type": "execute_result"
    }
   ],
   "source": [
    "# Array of the output feature\n",
    "np.ravel(y)"
   ]
  }
 ],
 "metadata": {
  "kernelspec": {
   "display_name": "Python 3 - python3",
   "language": "python3",
   "name": "python3"
  },
  "language_info": {
   "codemirror_mode": {
    "name": "ipython",
    "version": 3
   },
   "file_extension": ".py",
   "mimetype": "text/x-python",
   "name": "python",
   "nbconvert_exporter": "python",
   "pygments_lexer": "ipython3",
   "version": "3.12.4"
  }
 },
 "nbformat": 4,
 "nbformat_minor": 5
}
