{
 "cells": [
  {
   "cell_type": "code",
   "execution_count": 1,
   "metadata": {},
   "outputs": [
    {
     "name": "stdout",
     "output_type": "stream",
     "text": [
      "0.44\n",
      "['Sat']\n"
     ]
    }
   ],
   "source": [
    "# Import packages and functions\n",
    "import numpy as np\n",
    "import pandas as pd\n",
    "from sklearn.naive_bayes import GaussianNB\n",
    "\n",
    "# Load the tips dataset\n",
    "dataTips = pd.read_csv('tips.csv')\n",
    "\n",
    "# Create a dataframe X containing size and total_bill\n",
    "X = dataTips[['size', 'total_bill']]\n",
    "\n",
    "# Create a dataframe y containing day\n",
    "y = dataTips[['day']]\n",
    "\n",
    "# Flatten y into an array\n",
    "yArray = np.ravel(y)\n",
    "\n",
    "# Initialize a GaussianNB() model\n",
    "NBModel = GaussianNB()\n",
    "\n",
    "# Fit the model to X and yArray\n",
    "NBModel.fit(X, yArray)\n",
    "\n",
    "# Determine the accuracy of the model GNBModel\n",
    "accuracy = NBModel.score(X, y)\n",
    "\n",
    "print(accuracy)\n",
    "\n",
    "# Create a new dataframe with size = 1.46 and total_bill = 13.78\n",
    "newData = pd.DataFrame({'size':[1.46],'total_bill':[13.78]})\n",
    "\n",
    "# Predict day from the new data\n",
    "pred = NBModel.predict(newData)\n",
    "\n",
    "print(pred)\n"
   ]
  }
 ],
 "metadata": {
  "kernelspec": {
   "display_name": "Python 3",
   "language": "python",
   "name": "python3"
  },
  "language_info": {
   "codemirror_mode": {
    "name": "ipython",
    "version": 3
   },
   "file_extension": ".py",
   "mimetype": "text/x-python",
   "name": "python",
   "nbconvert_exporter": "python",
   "pygments_lexer": "ipython3",
   "version": "3.12.4"
  }
 },
 "nbformat": 4,
 "nbformat_minor": 2
}
