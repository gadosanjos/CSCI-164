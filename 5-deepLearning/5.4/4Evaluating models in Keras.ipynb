{
 "cells": [
  {
   "cell_type": "markdown",
   "metadata": {},
   "source": [
    "Evaluating neural networks\n",
    "\n",
    "Once a model is trained, model.evalute() applies and evaluates the model on testing data and mode.predict() calculates predicted values for specific instances. Like model.fit(), model.evaluate() uses batches to perform the computation. Details for each method can be found in the documentation."
   ]
  },
  {
   "cell_type": "code",
   "execution_count": 1,
   "metadata": {
    "execution": {
     "iopub.execute_input": "2023-12-07T19:23:15.351839Z",
     "iopub.status.busy": "2023-12-07T19:23:15.351294Z",
     "iopub.status.idle": "2023-12-07T19:23:15.716936Z",
     "shell.execute_reply": "2023-12-07T19:23:15.716624Z"
    },
    "id": "9PwL-dEOt0Bo"
   },
   "outputs": [],
   "source": [
    "import numpy as np\n",
    "import pandas as pd\n",
    "import os\n",
    "\n",
    "os.environ['KERAS_BACKEND'] = 'tensorflow'"
   ]
  },
  {
   "cell_type": "code",
   "execution_count": 2,
   "metadata": {
    "colab": {
     "base_uri": "https://localhost:8080/"
    },
    "execution": {
     "iopub.execute_input": "2023-12-07T19:23:15.718778Z",
     "iopub.status.busy": "2023-12-07T19:23:15.718635Z",
     "iopub.status.idle": "2023-12-07T19:23:17.228842Z",
     "shell.execute_reply": "2023-12-07T19:23:17.218965Z"
    },
    "id": "4HwvuxKouJ6s",
    "outputId": "88033ed0-18bb-43dd-d113-7b61e6c997f6"
   },
   "outputs": [],
   "source": [
    "# The backend must be set before importing keras, not after\n",
    "import keras as keras\n",
    "import keras.datasets.fashion_mnist"
   ]
  },
  {
   "cell_type": "code",
   "execution_count": 3,
   "metadata": {
    "colab": {
     "base_uri": "https://localhost:8080/"
    },
    "execution": {
     "iopub.execute_input": "2023-12-07T19:23:17.240870Z",
     "iopub.status.busy": "2023-12-07T19:23:17.240130Z",
     "iopub.status.idle": "2023-12-07T19:23:17.544631Z",
     "shell.execute_reply": "2023-12-07T19:23:17.544332Z"
    },
    "id": "1kuiNuZbudu6",
    "outputId": "8a788ddd-ee0b-49ca-949c-744dbef52889"
   },
   "outputs": [],
   "source": [
    "# Load built-in Fashion MNIST\n",
    "(Xtrain, ytrain), (Xtest, ytest) = keras.datasets.fashion_mnist.load_data()\n",
    "\n",
    "# Scale images to the [0, 1] range and make sure all have same type\n",
    "Xtrain = Xtrain.reshape(60000, 784).astype('float32') / 255\n",
    "Xtest = Xtest.reshape(10000, 784).astype('float32') / 255\n",
    "ytrain = ytrain.astype('float32')\n",
    "ytest = ytest.astype('float32')"
   ]
  },
  {
   "cell_type": "code",
   "execution_count": 4,
   "metadata": {
    "execution": {
     "iopub.execute_input": "2023-12-07T19:23:17.546368Z",
     "iopub.status.busy": "2023-12-07T19:23:17.546284Z",
     "iopub.status.idle": "2023-12-07T19:23:17.572234Z",
     "shell.execute_reply": "2023-12-07T19:23:17.571934Z"
    },
    "id": "l9jv8qq3xycr"
   },
   "outputs": [],
   "source": [
    "# Define the model structure using keras.Sequential\n",
    "n_classes = 10\n",
    "input_size = 784  # Example input size\n",
    "model = keras.Sequential(\n",
    "    [\n",
    "        # Input layer\n",
    "        keras.layers.Input(shape=(input_size, )),\n",
    "        # Hidden layer 1 = 256 nodes, linear activation\n",
    "        keras.layers.Dense(512, activation='relu'), # Input layer with ReLU activation\n",
    "        # Hidden layer 2: 128 nodes, linear activation\n",
    "        keras.layers.Dense(512, activation='relu'), # Hidden layer with ReLU activation\n",
    "        # Output layer: 10 nodes, one per class\n",
    "        keras.layers.Dense(n_classes), # Output layer (without activation, as in PyTorch)\n",
    "    ]\n",
    ")"
   ]
  },
  {
   "cell_type": "code",
   "execution_count": 5,
   "metadata": {
    "colab": {
     "base_uri": "https://localhost:8080/",
     "height": 225
    },
    "execution": {
     "iopub.execute_input": "2023-12-07T19:23:17.573826Z",
     "iopub.status.busy": "2023-12-07T19:23:17.573746Z",
     "iopub.status.idle": "2023-12-07T19:23:17.580307Z",
     "shell.execute_reply": "2023-12-07T19:23:17.580083Z"
    },
    "id": "S1EUFLKK2IY9",
    "outputId": "4287039a-a796-4673-ae9a-ff45d20b418e"
   },
   "outputs": [
    {
     "data": {
      "text/html": [
       "<pre style=\"white-space:pre;overflow-x:auto;line-height:normal;font-family:Menlo,'DejaVu Sans Mono',consolas,'Courier New',monospace\"><span style=\"font-weight: bold\">Model: \"sequential\"</span>\n",
       "</pre>\n"
      ],
      "text/plain": [
       "\u001b[1mModel: \"sequential\"\u001b[0m\n"
      ]
     },
     "metadata": {},
     "output_type": "display_data"
    },
    {
     "data": {
      "text/html": [
       "<pre style=\"white-space:pre;overflow-x:auto;line-height:normal;font-family:Menlo,'DejaVu Sans Mono',consolas,'Courier New',monospace\">┏━━━━━━━━━━━━━━━━━━━━━━━━━━━━━━━━━┳━━━━━━━━━━━━━━━━━━━━━━━━┳━━━━━━━━━━━━━━━┓\n",
       "┃<span style=\"font-weight: bold\"> Layer (type)                    </span>┃<span style=\"font-weight: bold\"> Output Shape           </span>┃<span style=\"font-weight: bold\">       Param # </span>┃\n",
       "┡━━━━━━━━━━━━━━━━━━━━━━━━━━━━━━━━━╇━━━━━━━━━━━━━━━━━━━━━━━━╇━━━━━━━━━━━━━━━┩\n",
       "│ dense (<span style=\"color: #0087ff; text-decoration-color: #0087ff\">Dense</span>)                   │ (<span style=\"color: #00d7ff; text-decoration-color: #00d7ff\">None</span>, <span style=\"color: #00af00; text-decoration-color: #00af00\">512</span>)            │       <span style=\"color: #00af00; text-decoration-color: #00af00\">401,920</span> │\n",
       "├─────────────────────────────────┼────────────────────────┼───────────────┤\n",
       "│ dense_1 (<span style=\"color: #0087ff; text-decoration-color: #0087ff\">Dense</span>)                 │ (<span style=\"color: #00d7ff; text-decoration-color: #00d7ff\">None</span>, <span style=\"color: #00af00; text-decoration-color: #00af00\">512</span>)            │       <span style=\"color: #00af00; text-decoration-color: #00af00\">262,656</span> │\n",
       "├─────────────────────────────────┼────────────────────────┼───────────────┤\n",
       "│ dense_2 (<span style=\"color: #0087ff; text-decoration-color: #0087ff\">Dense</span>)                 │ (<span style=\"color: #00d7ff; text-decoration-color: #00d7ff\">None</span>, <span style=\"color: #00af00; text-decoration-color: #00af00\">10</span>)             │         <span style=\"color: #00af00; text-decoration-color: #00af00\">5,130</span> │\n",
       "└─────────────────────────────────┴────────────────────────┴───────────────┘\n",
       "</pre>\n"
      ],
      "text/plain": [
       "┏━━━━━━━━━━━━━━━━━━━━━━━━━━━━━━━━━┳━━━━━━━━━━━━━━━━━━━━━━━━┳━━━━━━━━━━━━━━━┓\n",
       "┃\u001b[1m \u001b[0m\u001b[1mLayer (type)                   \u001b[0m\u001b[1m \u001b[0m┃\u001b[1m \u001b[0m\u001b[1mOutput Shape          \u001b[0m\u001b[1m \u001b[0m┃\u001b[1m \u001b[0m\u001b[1m      Param #\u001b[0m\u001b[1m \u001b[0m┃\n",
       "┡━━━━━━━━━━━━━━━━━━━━━━━━━━━━━━━━━╇━━━━━━━━━━━━━━━━━━━━━━━━╇━━━━━━━━━━━━━━━┩\n",
       "│ dense (\u001b[38;5;33mDense\u001b[0m)                   │ (\u001b[38;5;45mNone\u001b[0m, \u001b[38;5;34m512\u001b[0m)            │       \u001b[38;5;34m401,920\u001b[0m │\n",
       "├─────────────────────────────────┼────────────────────────┼───────────────┤\n",
       "│ dense_1 (\u001b[38;5;33mDense\u001b[0m)                 │ (\u001b[38;5;45mNone\u001b[0m, \u001b[38;5;34m512\u001b[0m)            │       \u001b[38;5;34m262,656\u001b[0m │\n",
       "├─────────────────────────────────┼────────────────────────┼───────────────┤\n",
       "│ dense_2 (\u001b[38;5;33mDense\u001b[0m)                 │ (\u001b[38;5;45mNone\u001b[0m, \u001b[38;5;34m10\u001b[0m)             │         \u001b[38;5;34m5,130\u001b[0m │\n",
       "└─────────────────────────────────┴────────────────────────┴───────────────┘\n"
      ]
     },
     "metadata": {},
     "output_type": "display_data"
    },
    {
     "data": {
      "text/html": [
       "<pre style=\"white-space:pre;overflow-x:auto;line-height:normal;font-family:Menlo,'DejaVu Sans Mono',consolas,'Courier New',monospace\"><span style=\"font-weight: bold\"> Total params: </span><span style=\"color: #00af00; text-decoration-color: #00af00\">669,706</span> (2.55 MB)\n",
       "</pre>\n"
      ],
      "text/plain": [
       "\u001b[1m Total params: \u001b[0m\u001b[38;5;34m669,706\u001b[0m (2.55 MB)\n"
      ]
     },
     "metadata": {},
     "output_type": "display_data"
    },
    {
     "data": {
      "text/html": [
       "<pre style=\"white-space:pre;overflow-x:auto;line-height:normal;font-family:Menlo,'DejaVu Sans Mono',consolas,'Courier New',monospace\"><span style=\"font-weight: bold\"> Trainable params: </span><span style=\"color: #00af00; text-decoration-color: #00af00\">669,706</span> (2.55 MB)\n",
       "</pre>\n"
      ],
      "text/plain": [
       "\u001b[1m Trainable params: \u001b[0m\u001b[38;5;34m669,706\u001b[0m (2.55 MB)\n"
      ]
     },
     "metadata": {},
     "output_type": "display_data"
    },
    {
     "data": {
      "text/html": [
       "<pre style=\"white-space:pre;overflow-x:auto;line-height:normal;font-family:Menlo,'DejaVu Sans Mono',consolas,'Courier New',monospace\"><span style=\"font-weight: bold\"> Non-trainable params: </span><span style=\"color: #00af00; text-decoration-color: #00af00\">0</span> (0.00 B)\n",
       "</pre>\n"
      ],
      "text/plain": [
       "\u001b[1m Non-trainable params: \u001b[0m\u001b[38;5;34m0\u001b[0m (0.00 B)\n"
      ]
     },
     "metadata": {},
     "output_type": "display_data"
    }
   ],
   "source": [
    "model.summary()"
   ]
  },
  {
   "cell_type": "code",
   "execution_count": 15,
   "metadata": {
    "execution": {
     "iopub.execute_input": "2023-12-07T19:23:17.581788Z",
     "iopub.status.busy": "2023-12-07T19:23:17.581657Z",
     "iopub.status.idle": "2023-12-07T19:23:17.586201Z",
     "shell.execute_reply": "2023-12-07T19:23:17.585959Z"
    },
    "id": "Hcp0ZX2N0ICZ"
   },
   "outputs": [],
   "source": [
    "from tensorflow.keras import layers, optimizers, losses, metrics\n",
    "# Specify training choices (optimizer, loss function, metrics)\n",
    "model.compile(\n",
    "    optimizer='Adam',  # Optimizer\n",
    "    # Loss function to minimize\n",
    "    loss=losses.SparseCategoricalCrossentropy(from_logits=True),\n",
    "    # List of metrics to monitor\n",
    "    metrics=['accuracy'],\n",
    ")"
   ]
  },
  {
   "cell_type": "code",
   "execution_count": 16,
   "metadata": {
    "colab": {
     "base_uri": "https://localhost:8080/"
    },
    "execution": {
     "iopub.execute_input": "2023-12-07T19:23:17.587673Z",
     "iopub.status.busy": "2023-12-07T19:23:17.587593Z",
     "iopub.status.idle": "2023-12-07T19:23:23.275776Z",
     "shell.execute_reply": "2023-12-07T19:23:23.275499Z"
    },
    "id": "TbyKluz80WiO",
    "outputId": "017ce2a2-6463-4bee-9cc6-4689c875160f"
   },
   "outputs": [
    {
     "name": "stdout",
     "output_type": "stream",
     "text": [
      "Epoch 1/50\n",
      "\u001b[1m844/844\u001b[0m \u001b[32m━━━━━━━━━━━━━━━━━━━━\u001b[0m\u001b[37m\u001b[0m \u001b[1m3s\u001b[0m 3ms/step - accuracy: 0.7746 - loss: 0.6315 - val_accuracy: 0.8603 - val_loss: 0.3817\n",
      "Epoch 2/50\n",
      "\u001b[1m844/844\u001b[0m \u001b[32m━━━━━━━━━━━━━━━━━━━━\u001b[0m\u001b[37m\u001b[0m \u001b[1m3s\u001b[0m 3ms/step - accuracy: 0.8648 - loss: 0.3642 - val_accuracy: 0.8743 - val_loss: 0.3470\n",
      "Epoch 3/50\n",
      "\u001b[1m844/844\u001b[0m \u001b[32m━━━━━━━━━━━━━━━━━━━━\u001b[0m\u001b[37m\u001b[0m \u001b[1m3s\u001b[0m 3ms/step - accuracy: 0.8788 - loss: 0.3215 - val_accuracy: 0.8617 - val_loss: 0.3917\n",
      "Epoch 4/50\n",
      "\u001b[1m844/844\u001b[0m \u001b[32m━━━━━━━━━━━━━━━━━━━━\u001b[0m\u001b[37m\u001b[0m \u001b[1m3s\u001b[0m 3ms/step - accuracy: 0.8863 - loss: 0.3010 - val_accuracy: 0.8795 - val_loss: 0.3313\n",
      "Epoch 5/50\n",
      "\u001b[1m844/844\u001b[0m \u001b[32m━━━━━━━━━━━━━━━━━━━━\u001b[0m\u001b[37m\u001b[0m \u001b[1m3s\u001b[0m 3ms/step - accuracy: 0.8963 - loss: 0.2755 - val_accuracy: 0.8718 - val_loss: 0.3453\n",
      "Epoch 6/50\n",
      "\u001b[1m844/844\u001b[0m \u001b[32m━━━━━━━━━━━━━━━━━━━━\u001b[0m\u001b[37m\u001b[0m \u001b[1m3s\u001b[0m 3ms/step - accuracy: 0.9029 - loss: 0.2589 - val_accuracy: 0.8883 - val_loss: 0.3113\n",
      "Epoch 7/50\n",
      "\u001b[1m844/844\u001b[0m \u001b[32m━━━━━━━━━━━━━━━━━━━━\u001b[0m\u001b[37m\u001b[0m \u001b[1m3s\u001b[0m 3ms/step - accuracy: 0.9071 - loss: 0.2459 - val_accuracy: 0.8822 - val_loss: 0.3302\n",
      "Epoch 8/50\n",
      "\u001b[1m844/844\u001b[0m \u001b[32m━━━━━━━━━━━━━━━━━━━━\u001b[0m\u001b[37m\u001b[0m \u001b[1m3s\u001b[0m 3ms/step - accuracy: 0.9125 - loss: 0.2281 - val_accuracy: 0.8900 - val_loss: 0.3221\n",
      "Epoch 9/50\n",
      "\u001b[1m844/844\u001b[0m \u001b[32m━━━━━━━━━━━━━━━━━━━━\u001b[0m\u001b[37m\u001b[0m \u001b[1m3s\u001b[0m 3ms/step - accuracy: 0.9177 - loss: 0.2184 - val_accuracy: 0.8910 - val_loss: 0.3124\n",
      "Epoch 10/50\n",
      "\u001b[1m844/844\u001b[0m \u001b[32m━━━━━━━━━━━━━━━━━━━━\u001b[0m\u001b[37m\u001b[0m \u001b[1m3s\u001b[0m 3ms/step - accuracy: 0.9186 - loss: 0.2145 - val_accuracy: 0.8927 - val_loss: 0.3191\n",
      "Epoch 11/50\n",
      "\u001b[1m844/844\u001b[0m \u001b[32m━━━━━━━━━━━━━━━━━━━━\u001b[0m\u001b[37m\u001b[0m \u001b[1m3s\u001b[0m 3ms/step - accuracy: 0.9232 - loss: 0.2047 - val_accuracy: 0.8908 - val_loss: 0.3169\n",
      "Epoch 12/50\n",
      "\u001b[1m844/844\u001b[0m \u001b[32m━━━━━━━━━━━━━━━━━━━━\u001b[0m\u001b[37m\u001b[0m \u001b[1m3s\u001b[0m 3ms/step - accuracy: 0.9255 - loss: 0.1943 - val_accuracy: 0.8908 - val_loss: 0.3385\n",
      "Epoch 13/50\n",
      "\u001b[1m844/844\u001b[0m \u001b[32m━━━━━━━━━━━━━━━━━━━━\u001b[0m\u001b[37m\u001b[0m \u001b[1m3s\u001b[0m 3ms/step - accuracy: 0.9304 - loss: 0.1818 - val_accuracy: 0.8957 - val_loss: 0.3182\n",
      "Epoch 14/50\n",
      "\u001b[1m844/844\u001b[0m \u001b[32m━━━━━━━━━━━━━━━━━━━━\u001b[0m\u001b[37m\u001b[0m \u001b[1m3s\u001b[0m 3ms/step - accuracy: 0.9349 - loss: 0.1720 - val_accuracy: 0.8920 - val_loss: 0.3366\n",
      "Epoch 15/50\n",
      "\u001b[1m844/844\u001b[0m \u001b[32m━━━━━━━━━━━━━━━━━━━━\u001b[0m\u001b[37m\u001b[0m \u001b[1m3s\u001b[0m 3ms/step - accuracy: 0.9348 - loss: 0.1708 - val_accuracy: 0.8920 - val_loss: 0.3666\n",
      "Epoch 16/50\n",
      "\u001b[1m844/844\u001b[0m \u001b[32m━━━━━━━━━━━━━━━━━━━━\u001b[0m\u001b[37m\u001b[0m \u001b[1m3s\u001b[0m 3ms/step - accuracy: 0.9394 - loss: 0.1588 - val_accuracy: 0.8907 - val_loss: 0.3572\n",
      "Epoch 17/50\n",
      "\u001b[1m844/844\u001b[0m \u001b[32m━━━━━━━━━━━━━━━━━━━━\u001b[0m\u001b[37m\u001b[0m \u001b[1m3s\u001b[0m 3ms/step - accuracy: 0.9400 - loss: 0.1538 - val_accuracy: 0.8917 - val_loss: 0.3737\n",
      "Epoch 18/50\n",
      "\u001b[1m844/844\u001b[0m \u001b[32m━━━━━━━━━━━━━━━━━━━━\u001b[0m\u001b[37m\u001b[0m \u001b[1m3s\u001b[0m 3ms/step - accuracy: 0.9439 - loss: 0.1486 - val_accuracy: 0.8942 - val_loss: 0.3692\n",
      "Epoch 19/50\n",
      "\u001b[1m844/844\u001b[0m \u001b[32m━━━━━━━━━━━━━━━━━━━━\u001b[0m\u001b[37m\u001b[0m \u001b[1m3s\u001b[0m 3ms/step - accuracy: 0.9439 - loss: 0.1454 - val_accuracy: 0.8958 - val_loss: 0.3626\n",
      "Epoch 20/50\n",
      "\u001b[1m844/844\u001b[0m \u001b[32m━━━━━━━━━━━━━━━━━━━━\u001b[0m\u001b[37m\u001b[0m \u001b[1m3s\u001b[0m 3ms/step - accuracy: 0.9440 - loss: 0.1426 - val_accuracy: 0.8977 - val_loss: 0.3771\n",
      "Epoch 21/50\n",
      "\u001b[1m844/844\u001b[0m \u001b[32m━━━━━━━━━━━━━━━━━━━━\u001b[0m\u001b[37m\u001b[0m \u001b[1m3s\u001b[0m 3ms/step - accuracy: 0.9492 - loss: 0.1315 - val_accuracy: 0.8897 - val_loss: 0.4005\n",
      "Epoch 22/50\n",
      "\u001b[1m844/844\u001b[0m \u001b[32m━━━━━━━━━━━━━━━━━━━━\u001b[0m\u001b[37m\u001b[0m \u001b[1m3s\u001b[0m 3ms/step - accuracy: 0.9497 - loss: 0.1314 - val_accuracy: 0.8913 - val_loss: 0.4029\n",
      "Epoch 23/50\n",
      "\u001b[1m844/844\u001b[0m \u001b[32m━━━━━━━━━━━━━━━━━━━━\u001b[0m\u001b[37m\u001b[0m \u001b[1m3s\u001b[0m 3ms/step - accuracy: 0.9524 - loss: 0.1227 - val_accuracy: 0.8948 - val_loss: 0.4405\n",
      "Epoch 24/50\n",
      "\u001b[1m844/844\u001b[0m \u001b[32m━━━━━━━━━━━━━━━━━━━━\u001b[0m\u001b[37m\u001b[0m \u001b[1m3s\u001b[0m 3ms/step - accuracy: 0.9549 - loss: 0.1164 - val_accuracy: 0.8953 - val_loss: 0.4064\n",
      "Epoch 25/50\n",
      "\u001b[1m844/844\u001b[0m \u001b[32m━━━━━━━━━━━━━━━━━━━━\u001b[0m\u001b[37m\u001b[0m \u001b[1m3s\u001b[0m 3ms/step - accuracy: 0.9553 - loss: 0.1172 - val_accuracy: 0.8892 - val_loss: 0.4331\n",
      "Epoch 26/50\n",
      "\u001b[1m844/844\u001b[0m \u001b[32m━━━━━━━━━━━━━━━━━━━━\u001b[0m\u001b[37m\u001b[0m \u001b[1m3s\u001b[0m 3ms/step - accuracy: 0.9561 - loss: 0.1126 - val_accuracy: 0.8898 - val_loss: 0.4395\n",
      "Epoch 27/50\n",
      "\u001b[1m844/844\u001b[0m \u001b[32m━━━━━━━━━━━━━━━━━━━━\u001b[0m\u001b[37m\u001b[0m \u001b[1m3s\u001b[0m 3ms/step - accuracy: 0.9598 - loss: 0.1061 - val_accuracy: 0.8903 - val_loss: 0.4374\n",
      "Epoch 28/50\n",
      "\u001b[1m844/844\u001b[0m \u001b[32m━━━━━━━━━━━━━━━━━━━━\u001b[0m\u001b[37m\u001b[0m \u001b[1m3s\u001b[0m 3ms/step - accuracy: 0.9590 - loss: 0.1055 - val_accuracy: 0.8905 - val_loss: 0.4497\n",
      "Epoch 29/50\n",
      "\u001b[1m844/844\u001b[0m \u001b[32m━━━━━━━━━━━━━━━━━━━━\u001b[0m\u001b[37m\u001b[0m \u001b[1m3s\u001b[0m 3ms/step - accuracy: 0.9624 - loss: 0.0967 - val_accuracy: 0.8908 - val_loss: 0.4459\n",
      "Epoch 30/50\n",
      "\u001b[1m844/844\u001b[0m \u001b[32m━━━━━━━━━━━━━━━━━━━━\u001b[0m\u001b[37m\u001b[0m \u001b[1m3s\u001b[0m 3ms/step - accuracy: 0.9640 - loss: 0.0945 - val_accuracy: 0.8937 - val_loss: 0.4428\n",
      "Epoch 31/50\n",
      "\u001b[1m844/844\u001b[0m \u001b[32m━━━━━━━━━━━━━━━━━━━━\u001b[0m\u001b[37m\u001b[0m \u001b[1m3s\u001b[0m 3ms/step - accuracy: 0.9652 - loss: 0.0907 - val_accuracy: 0.8938 - val_loss: 0.4657\n",
      "Epoch 32/50\n",
      "\u001b[1m844/844\u001b[0m \u001b[32m━━━━━━━━━━━━━━━━━━━━\u001b[0m\u001b[37m\u001b[0m \u001b[1m3s\u001b[0m 3ms/step - accuracy: 0.9662 - loss: 0.0891 - val_accuracy: 0.8948 - val_loss: 0.4679\n",
      "Epoch 33/50\n",
      "\u001b[1m844/844\u001b[0m \u001b[32m━━━━━━━━━━━━━━━━━━━━\u001b[0m\u001b[37m\u001b[0m \u001b[1m3s\u001b[0m 3ms/step - accuracy: 0.9676 - loss: 0.0854 - val_accuracy: 0.8958 - val_loss: 0.5080\n",
      "Epoch 34/50\n",
      "\u001b[1m844/844\u001b[0m \u001b[32m━━━━━━━━━━━━━━━━━━━━\u001b[0m\u001b[37m\u001b[0m \u001b[1m3s\u001b[0m 3ms/step - accuracy: 0.9665 - loss: 0.0848 - val_accuracy: 0.8913 - val_loss: 0.5261\n",
      "Epoch 35/50\n",
      "\u001b[1m844/844\u001b[0m \u001b[32m━━━━━━━━━━━━━━━━━━━━\u001b[0m\u001b[37m\u001b[0m \u001b[1m3s\u001b[0m 3ms/step - accuracy: 0.9676 - loss: 0.0838 - val_accuracy: 0.8920 - val_loss: 0.5544\n",
      "Epoch 36/50\n",
      "\u001b[1m844/844\u001b[0m \u001b[32m━━━━━━━━━━━━━━━━━━━━\u001b[0m\u001b[37m\u001b[0m \u001b[1m3s\u001b[0m 3ms/step - accuracy: 0.9664 - loss: 0.0856 - val_accuracy: 0.8910 - val_loss: 0.4955\n",
      "Epoch 37/50\n",
      "\u001b[1m844/844\u001b[0m \u001b[32m━━━━━━━━━━━━━━━━━━━━\u001b[0m\u001b[37m\u001b[0m \u001b[1m3s\u001b[0m 3ms/step - accuracy: 0.9723 - loss: 0.0725 - val_accuracy: 0.8930 - val_loss: 0.4915\n",
      "Epoch 38/50\n",
      "\u001b[1m844/844\u001b[0m \u001b[32m━━━━━━━━━━━━━━━━━━━━\u001b[0m\u001b[37m\u001b[0m \u001b[1m3s\u001b[0m 3ms/step - accuracy: 0.9738 - loss: 0.0689 - val_accuracy: 0.8960 - val_loss: 0.5397\n",
      "Epoch 39/50\n",
      "\u001b[1m844/844\u001b[0m \u001b[32m━━━━━━━━━━━━━━━━━━━━\u001b[0m\u001b[37m\u001b[0m \u001b[1m3s\u001b[0m 3ms/step - accuracy: 0.9720 - loss: 0.0725 - val_accuracy: 0.8895 - val_loss: 0.5215\n",
      "Epoch 40/50\n",
      "\u001b[1m844/844\u001b[0m \u001b[32m━━━━━━━━━━━━━━━━━━━━\u001b[0m\u001b[37m\u001b[0m \u001b[1m3s\u001b[0m 3ms/step - accuracy: 0.9740 - loss: 0.0665 - val_accuracy: 0.8902 - val_loss: 0.5685\n",
      "Epoch 41/50\n",
      "\u001b[1m844/844\u001b[0m \u001b[32m━━━━━━━━━━━━━━━━━━━━\u001b[0m\u001b[37m\u001b[0m \u001b[1m3s\u001b[0m 3ms/step - accuracy: 0.9738 - loss: 0.0670 - val_accuracy: 0.8918 - val_loss: 0.5824\n",
      "Epoch 42/50\n",
      "\u001b[1m844/844\u001b[0m \u001b[32m━━━━━━━━━━━━━━━━━━━━\u001b[0m\u001b[37m\u001b[0m \u001b[1m3s\u001b[0m 3ms/step - accuracy: 0.9761 - loss: 0.0633 - val_accuracy: 0.8882 - val_loss: 0.6658\n",
      "Epoch 43/50\n",
      "\u001b[1m844/844\u001b[0m \u001b[32m━━━━━━━━━━━━━━━━━━━━\u001b[0m\u001b[37m\u001b[0m \u001b[1m3s\u001b[0m 3ms/step - accuracy: 0.9735 - loss: 0.0667 - val_accuracy: 0.8905 - val_loss: 0.5602\n",
      "Epoch 44/50\n",
      "\u001b[1m844/844\u001b[0m \u001b[32m━━━━━━━━━━━━━━━━━━━━\u001b[0m\u001b[37m\u001b[0m \u001b[1m3s\u001b[0m 3ms/step - accuracy: 0.9765 - loss: 0.0619 - val_accuracy: 0.8933 - val_loss: 0.5674\n",
      "Epoch 45/50\n",
      "\u001b[1m844/844\u001b[0m \u001b[32m━━━━━━━━━━━━━━━━━━━━\u001b[0m\u001b[37m\u001b[0m \u001b[1m3s\u001b[0m 3ms/step - accuracy: 0.9763 - loss: 0.0645 - val_accuracy: 0.8900 - val_loss: 0.6375\n",
      "Epoch 46/50\n",
      "\u001b[1m844/844\u001b[0m \u001b[32m━━━━━━━━━━━━━━━━━━━━\u001b[0m\u001b[37m\u001b[0m \u001b[1m3s\u001b[0m 3ms/step - accuracy: 0.9800 - loss: 0.0539 - val_accuracy: 0.8902 - val_loss: 0.6187\n",
      "Epoch 47/50\n",
      "\u001b[1m844/844\u001b[0m \u001b[32m━━━━━━━━━━━━━━━━━━━━\u001b[0m\u001b[37m\u001b[0m \u001b[1m3s\u001b[0m 3ms/step - accuracy: 0.9783 - loss: 0.0565 - val_accuracy: 0.8930 - val_loss: 0.5920\n",
      "Epoch 48/50\n",
      "\u001b[1m844/844\u001b[0m \u001b[32m━━━━━━━━━━━━━━━━━━━━\u001b[0m\u001b[37m\u001b[0m \u001b[1m3s\u001b[0m 3ms/step - accuracy: 0.9804 - loss: 0.0502 - val_accuracy: 0.8905 - val_loss: 0.6251\n",
      "Epoch 49/50\n",
      "\u001b[1m844/844\u001b[0m \u001b[32m━━━━━━━━━━━━━━━━━━━━\u001b[0m\u001b[37m\u001b[0m \u001b[1m3s\u001b[0m 3ms/step - accuracy: 0.9777 - loss: 0.0611 - val_accuracy: 0.8942 - val_loss: 0.6586\n",
      "Epoch 50/50\n",
      "\u001b[1m844/844\u001b[0m \u001b[32m━━━━━━━━━━━━━━━━━━━━\u001b[0m\u001b[37m\u001b[0m \u001b[1m3s\u001b[0m 3ms/step - accuracy: 0.9782 - loss: 0.0610 - val_accuracy: 0.8915 - val_loss: 0.5881\n"
     ]
    }
   ],
   "source": [
    "# Train the model with validation\n",
    "training = model.fit(Xtrain, ytrain, batch_size=64, epochs=50, validation_split=0.1)"
   ]
  },
  {
   "cell_type": "code",
   "execution_count": 17,
   "metadata": {
    "colab": {
     "base_uri": "https://localhost:8080/"
    },
    "execution": {
     "iopub.execute_input": "2023-12-07T19:23:23.277288Z",
     "iopub.status.busy": "2023-12-07T19:23:23.277185Z",
     "iopub.status.idle": "2023-12-07T19:23:23.279348Z",
     "shell.execute_reply": "2023-12-07T19:23:23.279109Z"
    },
    "id": "hyaZA82b82RT",
    "outputId": "7f73886d-86a2-49ff-e321-177bdf9d7506"
   },
   "outputs": [
    {
     "data": {
      "text/plain": [
       "{'accuracy': [0.82575923204422,\n",
       "  0.8681296110153198,\n",
       "  0.8809629678726196,\n",
       "  0.889296293258667,\n",
       "  0.8958703875541687,\n",
       "  0.9026851654052734,\n",
       "  0.9058333039283752,\n",
       "  0.9110184907913208,\n",
       "  0.9148518443107605,\n",
       "  0.9184814691543579,\n",
       "  0.9214074015617371,\n",
       "  0.9254074096679688,\n",
       "  0.9282962679862976,\n",
       "  0.9314629435539246,\n",
       "  0.9326296448707581,\n",
       "  0.9369999766349792,\n",
       "  0.9388889074325562,\n",
       "  0.9422592520713806,\n",
       "  0.9437037110328674,\n",
       "  0.9449999928474426,\n",
       "  0.947092592716217,\n",
       "  0.9495740532875061,\n",
       "  0.9519444704055786,\n",
       "  0.953166663646698,\n",
       "  0.954537034034729,\n",
       "  0.9554073810577393,\n",
       "  0.9582407474517822,\n",
       "  0.9589999914169312,\n",
       "  0.9614074230194092,\n",
       "  0.9609444737434387,\n",
       "  0.9637407660484314,\n",
       "  0.9646852016448975,\n",
       "  0.9637963175773621,\n",
       "  0.9659629464149475,\n",
       "  0.9669814705848694,\n",
       "  0.9669814705848694,\n",
       "  0.969870388507843,\n",
       "  0.9722592830657959,\n",
       "  0.9718518257141113,\n",
       "  0.9718888998031616,\n",
       "  0.9717592597007751,\n",
       "  0.9735555648803711,\n",
       "  0.9747222065925598,\n",
       "  0.9759259223937988,\n",
       "  0.9752777814865112,\n",
       "  0.9773333072662354,\n",
       "  0.9768703579902649,\n",
       "  0.9782407283782959,\n",
       "  0.9781296253204346,\n",
       "  0.978092610836029],\n",
       " 'loss': [0.48285698890686035,\n",
       "  0.35562047362327576,\n",
       "  0.3204071819782257,\n",
       "  0.2952355444431305,\n",
       "  0.2763248085975647,\n",
       "  0.2605225145816803,\n",
       "  0.2489977777004242,\n",
       "  0.233570858836174,\n",
       "  0.2239365577697754,\n",
       "  0.2144496738910675,\n",
       "  0.20662923157215118,\n",
       "  0.19476890563964844,\n",
       "  0.18748347461223602,\n",
       "  0.17936019599437714,\n",
       "  0.17303012311458588,\n",
       "  0.16375786066055298,\n",
       "  0.1592186838388443,\n",
       "  0.15276707708835602,\n",
       "  0.14610479772090912,\n",
       "  0.14149317145347595,\n",
       "  0.1361876130104065,\n",
       "  0.13091948628425598,\n",
       "  0.1260548084974289,\n",
       "  0.12001792341470718,\n",
       "  0.11923062056303024,\n",
       "  0.11560322344303131,\n",
       "  0.10901032388210297,\n",
       "  0.10621394962072372,\n",
       "  0.09876824170351028,\n",
       "  0.10098545998334885,\n",
       "  0.09597404301166534,\n",
       "  0.09094402939081192,\n",
       "  0.09475970268249512,\n",
       "  0.08839306980371475,\n",
       "  0.08542897552251816,\n",
       "  0.08626312762498856,\n",
       "  0.07894468307495117,\n",
       "  0.07309412211179733,\n",
       "  0.07168740779161453,\n",
       "  0.07285866886377335,\n",
       "  0.07354157418012619,\n",
       "  0.06975487619638443,\n",
       "  0.06510717421770096,\n",
       "  0.06516898423433304,\n",
       "  0.06633515655994415,\n",
       "  0.06113847345113754,\n",
       "  0.059532877057790756,\n",
       "  0.05763595551252365,\n",
       "  0.05986625328660011,\n",
       "  0.05936448276042938],\n",
       " 'val_accuracy': [0.8603333234786987,\n",
       "  0.8743333220481873,\n",
       "  0.8616666793823242,\n",
       "  0.8794999718666077,\n",
       "  0.871833324432373,\n",
       "  0.8883333206176758,\n",
       "  0.8821666836738586,\n",
       "  0.8899999856948853,\n",
       "  0.890999972820282,\n",
       "  0.8926666378974915,\n",
       "  0.89083331823349,\n",
       "  0.89083331823349,\n",
       "  0.8956666588783264,\n",
       "  0.8920000195503235,\n",
       "  0.8920000195503235,\n",
       "  0.890666663646698,\n",
       "  0.8916666507720947,\n",
       "  0.8941666483879089,\n",
       "  0.8958333134651184,\n",
       "  0.8976666927337646,\n",
       "  0.8896666765213013,\n",
       "  0.8913333415985107,\n",
       "  0.8948333263397217,\n",
       "  0.8953333497047424,\n",
       "  0.8891666531562805,\n",
       "  0.8898333311080933,\n",
       "  0.890333354473114,\n",
       "  0.890500009059906,\n",
       "  0.89083331823349,\n",
       "  0.893666684627533,\n",
       "  0.893833339214325,\n",
       "  0.8948333263397217,\n",
       "  0.8958333134651184,\n",
       "  0.8913333415985107,\n",
       "  0.8920000195503235,\n",
       "  0.890999972820282,\n",
       "  0.8930000066757202,\n",
       "  0.8960000276565552,\n",
       "  0.8895000219345093,\n",
       "  0.8901666402816772,\n",
       "  0.8918333053588867,\n",
       "  0.8881666660308838,\n",
       "  0.890500009059906,\n",
       "  0.8933333158493042,\n",
       "  0.8899999856948853,\n",
       "  0.8901666402816772,\n",
       "  0.8930000066757202,\n",
       "  0.890500009059906,\n",
       "  0.8941666483879089,\n",
       "  0.8914999961853027],\n",
       " 'val_loss': [0.3816734552383423,\n",
       "  0.34702160954475403,\n",
       "  0.39172619581222534,\n",
       "  0.33133846521377563,\n",
       "  0.34532174468040466,\n",
       "  0.3113313317298889,\n",
       "  0.3301524221897125,\n",
       "  0.32209086418151855,\n",
       "  0.3123638927936554,\n",
       "  0.31908971071243286,\n",
       "  0.3168981075286865,\n",
       "  0.33846065402030945,\n",
       "  0.31823739409446716,\n",
       "  0.3365996181964874,\n",
       "  0.36662712693214417,\n",
       "  0.35719841718673706,\n",
       "  0.3737146258354187,\n",
       "  0.36918753385543823,\n",
       "  0.3626449704170227,\n",
       "  0.37707486748695374,\n",
       "  0.4005313813686371,\n",
       "  0.40286508202552795,\n",
       "  0.4404773414134979,\n",
       "  0.40641897916793823,\n",
       "  0.43310388922691345,\n",
       "  0.4394613802433014,\n",
       "  0.4373606741428375,\n",
       "  0.44966986775398254,\n",
       "  0.44592219591140747,\n",
       "  0.4427734911441803,\n",
       "  0.46572110056877136,\n",
       "  0.46792733669281006,\n",
       "  0.5080443620681763,\n",
       "  0.5260940194129944,\n",
       "  0.5543645024299622,\n",
       "  0.4955306351184845,\n",
       "  0.4914500415325165,\n",
       "  0.5397258996963501,\n",
       "  0.521487295627594,\n",
       "  0.5684522390365601,\n",
       "  0.5824353098869324,\n",
       "  0.6657542586326599,\n",
       "  0.5602108836174011,\n",
       "  0.567366361618042,\n",
       "  0.6374557018280029,\n",
       "  0.6187242865562439,\n",
       "  0.5919517874717712,\n",
       "  0.6250644326210022,\n",
       "  0.6585742831230164,\n",
       "  0.5880503058433533]}"
      ]
     },
     "execution_count": 17,
     "metadata": {},
     "output_type": "execute_result"
    }
   ],
   "source": [
    "# View the training history\n",
    "training.history"
   ]
  },
  {
   "cell_type": "code",
   "execution_count": 18,
   "metadata": {
    "colab": {
     "base_uri": "https://localhost:8080/"
    },
    "execution": {
     "iopub.execute_input": "2023-12-07T19:23:23.280788Z",
     "iopub.status.busy": "2023-12-07T19:23:23.280695Z",
     "iopub.status.idle": "2023-12-07T19:23:23.440979Z",
     "shell.execute_reply": "2023-12-07T19:23:23.440662Z"
    },
    "id": "dmojrYjc85oq",
    "outputId": "152be14e-ddc7-495f-a529-4299c9f27670"
   },
   "outputs": [
    {
     "name": "stdout",
     "output_type": "stream",
     "text": [
      "\u001b[1m157/157\u001b[0m \u001b[32m━━━━━━━━━━━━━━━━━━━━\u001b[0m\u001b[37m\u001b[0m \u001b[1m0s\u001b[0m 1ms/step - accuracy: 0.8918 - loss: 0.6419\n",
      "Test loss, accuracy [0.6332319974899292, 0.8938000202178955]\n"
     ]
    }
   ],
   "source": [
    "# Evaluate the model on the testing data\n",
    "results = model.evaluate(Xtest, ytest, batch_size=64)\n",
    "print('Test loss, accuracy', results)"
   ]
  },
  {
   "cell_type": "code",
   "execution_count": 19,
   "metadata": {
    "colab": {
     "base_uri": "https://localhost:8080/"
    },
    "execution": {
     "iopub.execute_input": "2023-12-07T19:23:23.442546Z",
     "iopub.status.busy": "2023-12-07T19:23:23.442456Z",
     "iopub.status.idle": "2023-12-07T19:23:23.511209Z",
     "shell.execute_reply": "2023-12-07T19:23:23.510923Z"
    },
    "id": "WbgbKJ2Y-THz",
    "outputId": "55765ca9-c94b-486b-bfb5-7ef98a19dac8"
   },
   "outputs": [
    {
     "name": "stdout",
     "output_type": "stream",
     "text": [
      "\u001b[1m1/1\u001b[0m \u001b[32m━━━━━━━━━━━━━━━━━━━━\u001b[0m\u001b[37m\u001b[0m \u001b[1m0s\u001b[0m 33ms/step\n",
      "Predictions: [[ -22.344  -14.584  -31.566  -17.929  -26.69   -12.231  -20.221   -4.046\n",
      "   -24.653   14.175]\n",
      " [  -6.769  -48.169   11.586  -38.219   -7.279  -26.792   -5.333  -41.417\n",
      "   -31.667  -49.646]\n",
      " [ -91.243   87.555  -64.375  -34.411  -96.14   -72.436  -47.979 -132.824\n",
      "   -72.784  -87.72 ]]\n",
      "Actual values: [9. 2. 1.]\n"
     ]
    }
   ],
   "source": [
    "# Generate predictions (probabilities -- the output of the last layer)\n",
    "predictions = model.predict(Xtest[:3])\n",
    "print('Predictions:', predictions.round(3))\n",
    "print('Actual values:', ytest[:3])"
   ]
  }
 ],
 "metadata": {
  "colab": {
   "provenance": []
  },
  "kernelspec": {
   "display_name": "Python 3 - python3",
   "language": "python3",
   "name": "python3"
  },
  "language_info": {
   "codemirror_mode": {
    "name": "ipython",
    "version": 3
   },
   "file_extension": ".py",
   "mimetype": "text/x-python",
   "name": "python",
   "nbconvert_exporter": "python",
   "pygments_lexer": "ipython3",
   "version": "3.12.4"
  }
 },
 "nbformat": 4,
 "nbformat_minor": 1
}
