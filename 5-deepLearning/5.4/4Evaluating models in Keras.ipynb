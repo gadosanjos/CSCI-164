{
 "cells": [
  {
   "cell_type": "markdown",
   "metadata": {},
   "source": [
    "Evaluating neural networks\n",
    "\n",
    "Once a model is trained, model.evalute() applies and evaluates the model on testing data and mode.predict() calculates predicted values for specific instances. Like model.fit(), model.evaluate() uses batches to perform the computation. Details for each method can be found in the documentation."
   ]
  },
  {
   "cell_type": "code",
   "execution_count": 1,
   "metadata": {
    "execution": {
     "iopub.execute_input": "2023-12-07T19:23:15.351839Z",
     "iopub.status.busy": "2023-12-07T19:23:15.351294Z",
     "iopub.status.idle": "2023-12-07T19:23:15.716936Z",
     "shell.execute_reply": "2023-12-07T19:23:15.716624Z"
    },
    "id": "9PwL-dEOt0Bo"
   },
   "outputs": [],
   "source": [
    "import numpy as np\n",
    "import pandas as pd\n",
    "import os\n",
    "\n",
    "os.environ['KERAS_BACKEND'] = 'tensorflow'"
   ]
  },
  {
   "cell_type": "code",
   "execution_count": 2,
   "metadata": {
    "colab": {
     "base_uri": "https://localhost:8080/"
    },
    "execution": {
     "iopub.execute_input": "2023-12-07T19:23:15.718778Z",
     "iopub.status.busy": "2023-12-07T19:23:15.718635Z",
     "iopub.status.idle": "2023-12-07T19:23:17.228842Z",
     "shell.execute_reply": "2023-12-07T19:23:17.218965Z"
    },
    "id": "4HwvuxKouJ6s",
    "outputId": "88033ed0-18bb-43dd-d113-7b61e6c997f6"
   },
   "outputs": [],
   "source": [
    "# The backend must be set before importing keras, not after\n",
    "import keras as keras\n",
    "import keras.datasets.fashion_mnist"
   ]
  },
  {
   "cell_type": "code",
   "execution_count": 3,
   "metadata": {
    "colab": {
     "base_uri": "https://localhost:8080/"
    },
    "execution": {
     "iopub.execute_input": "2023-12-07T19:23:17.240870Z",
     "iopub.status.busy": "2023-12-07T19:23:17.240130Z",
     "iopub.status.idle": "2023-12-07T19:23:17.544631Z",
     "shell.execute_reply": "2023-12-07T19:23:17.544332Z"
    },
    "id": "1kuiNuZbudu6",
    "outputId": "8a788ddd-ee0b-49ca-949c-744dbef52889"
   },
   "outputs": [],
   "source": [
    "# Load built-in Fashion MNIST\n",
    "(Xtrain, ytrain), (Xtest, ytest) = keras.datasets.fashion_mnist.load_data()\n",
    "\n",
    "# Scale images to the [0, 1] range and make sure all have same type\n",
    "Xtrain = Xtrain.reshape(60000, 784).astype('float32') / 255\n",
    "Xtest = Xtest.reshape(10000, 784).astype('float32') / 255\n",
    "ytrain = ytrain.astype('float32')\n",
    "ytest = ytest.astype('float32')"
   ]
  },
  {
   "cell_type": "code",
   "execution_count": 4,
   "metadata": {
    "execution": {
     "iopub.execute_input": "2023-12-07T19:23:17.546368Z",
     "iopub.status.busy": "2023-12-07T19:23:17.546284Z",
     "iopub.status.idle": "2023-12-07T19:23:17.572234Z",
     "shell.execute_reply": "2023-12-07T19:23:17.571934Z"
    },
    "id": "l9jv8qq3xycr"
   },
   "outputs": [],
   "source": [
    "# Define the model structure using keras.Sequential\n",
    "\n",
    "model = keras.Sequential(\n",
    "    [\n",
    "        # Input layer\n",
    "        keras.layers.Input(shape=(784, )),\n",
    "        # Hidden layer 1 = 256 nodes, linear activation\n",
    "        keras.layers.Dense(256, activation='linear'),\n",
    "        # Hidden layer 2: 128 nodes, linear activation\n",
    "        keras.layers.Dense(128, activation='linear'),\n",
    "        # Output layer: 10 nodes, one per class\n",
    "        keras.layers.Dense(10, activation='softmax'),\n",
    "    ]\n",
    ")"
   ]
  },
  {
   "cell_type": "code",
   "execution_count": 5,
   "metadata": {
    "colab": {
     "base_uri": "https://localhost:8080/",
     "height": 225
    },
    "execution": {
     "iopub.execute_input": "2023-12-07T19:23:17.573826Z",
     "iopub.status.busy": "2023-12-07T19:23:17.573746Z",
     "iopub.status.idle": "2023-12-07T19:23:17.580307Z",
     "shell.execute_reply": "2023-12-07T19:23:17.580083Z"
    },
    "id": "S1EUFLKK2IY9",
    "outputId": "4287039a-a796-4673-ae9a-ff45d20b418e"
   },
   "outputs": [
    {
     "data": {
      "text/html": [
       "<pre style=\"white-space:pre;overflow-x:auto;line-height:normal;font-family:Menlo,'DejaVu Sans Mono',consolas,'Courier New',monospace\"><span style=\"font-weight: bold\">Model: \"sequential\"</span>\n",
       "</pre>\n"
      ],
      "text/plain": [
       "\u001b[1mModel: \"sequential\"\u001b[0m\n"
      ]
     },
     "metadata": {},
     "output_type": "display_data"
    },
    {
     "data": {
      "text/html": [
       "<pre style=\"white-space:pre;overflow-x:auto;line-height:normal;font-family:Menlo,'DejaVu Sans Mono',consolas,'Courier New',monospace\">┏━━━━━━━━━━━━━━━━━━━━━━━━━━━━━━━━━┳━━━━━━━━━━━━━━━━━━━━━━━━┳━━━━━━━━━━━━━━━┓\n",
       "┃<span style=\"font-weight: bold\"> Layer (type)                    </span>┃<span style=\"font-weight: bold\"> Output Shape           </span>┃<span style=\"font-weight: bold\">       Param # </span>┃\n",
       "┡━━━━━━━━━━━━━━━━━━━━━━━━━━━━━━━━━╇━━━━━━━━━━━━━━━━━━━━━━━━╇━━━━━━━━━━━━━━━┩\n",
       "│ dense (<span style=\"color: #0087ff; text-decoration-color: #0087ff\">Dense</span>)                   │ (<span style=\"color: #00d7ff; text-decoration-color: #00d7ff\">None</span>, <span style=\"color: #00af00; text-decoration-color: #00af00\">256</span>)            │       <span style=\"color: #00af00; text-decoration-color: #00af00\">200,960</span> │\n",
       "├─────────────────────────────────┼────────────────────────┼───────────────┤\n",
       "│ dense_1 (<span style=\"color: #0087ff; text-decoration-color: #0087ff\">Dense</span>)                 │ (<span style=\"color: #00d7ff; text-decoration-color: #00d7ff\">None</span>, <span style=\"color: #00af00; text-decoration-color: #00af00\">128</span>)            │        <span style=\"color: #00af00; text-decoration-color: #00af00\">32,896</span> │\n",
       "├─────────────────────────────────┼────────────────────────┼───────────────┤\n",
       "│ dense_2 (<span style=\"color: #0087ff; text-decoration-color: #0087ff\">Dense</span>)                 │ (<span style=\"color: #00d7ff; text-decoration-color: #00d7ff\">None</span>, <span style=\"color: #00af00; text-decoration-color: #00af00\">10</span>)             │         <span style=\"color: #00af00; text-decoration-color: #00af00\">1,290</span> │\n",
       "└─────────────────────────────────┴────────────────────────┴───────────────┘\n",
       "</pre>\n"
      ],
      "text/plain": [
       "┏━━━━━━━━━━━━━━━━━━━━━━━━━━━━━━━━━┳━━━━━━━━━━━━━━━━━━━━━━━━┳━━━━━━━━━━━━━━━┓\n",
       "┃\u001b[1m \u001b[0m\u001b[1mLayer (type)                   \u001b[0m\u001b[1m \u001b[0m┃\u001b[1m \u001b[0m\u001b[1mOutput Shape          \u001b[0m\u001b[1m \u001b[0m┃\u001b[1m \u001b[0m\u001b[1m      Param #\u001b[0m\u001b[1m \u001b[0m┃\n",
       "┡━━━━━━━━━━━━━━━━━━━━━━━━━━━━━━━━━╇━━━━━━━━━━━━━━━━━━━━━━━━╇━━━━━━━━━━━━━━━┩\n",
       "│ dense (\u001b[38;5;33mDense\u001b[0m)                   │ (\u001b[38;5;45mNone\u001b[0m, \u001b[38;5;34m256\u001b[0m)            │       \u001b[38;5;34m200,960\u001b[0m │\n",
       "├─────────────────────────────────┼────────────────────────┼───────────────┤\n",
       "│ dense_1 (\u001b[38;5;33mDense\u001b[0m)                 │ (\u001b[38;5;45mNone\u001b[0m, \u001b[38;5;34m128\u001b[0m)            │        \u001b[38;5;34m32,896\u001b[0m │\n",
       "├─────────────────────────────────┼────────────────────────┼───────────────┤\n",
       "│ dense_2 (\u001b[38;5;33mDense\u001b[0m)                 │ (\u001b[38;5;45mNone\u001b[0m, \u001b[38;5;34m10\u001b[0m)             │         \u001b[38;5;34m1,290\u001b[0m │\n",
       "└─────────────────────────────────┴────────────────────────┴───────────────┘\n"
      ]
     },
     "metadata": {},
     "output_type": "display_data"
    },
    {
     "data": {
      "text/html": [
       "<pre style=\"white-space:pre;overflow-x:auto;line-height:normal;font-family:Menlo,'DejaVu Sans Mono',consolas,'Courier New',monospace\"><span style=\"font-weight: bold\"> Total params: </span><span style=\"color: #00af00; text-decoration-color: #00af00\">235,146</span> (918.54 KB)\n",
       "</pre>\n"
      ],
      "text/plain": [
       "\u001b[1m Total params: \u001b[0m\u001b[38;5;34m235,146\u001b[0m (918.54 KB)\n"
      ]
     },
     "metadata": {},
     "output_type": "display_data"
    },
    {
     "data": {
      "text/html": [
       "<pre style=\"white-space:pre;overflow-x:auto;line-height:normal;font-family:Menlo,'DejaVu Sans Mono',consolas,'Courier New',monospace\"><span style=\"font-weight: bold\"> Trainable params: </span><span style=\"color: #00af00; text-decoration-color: #00af00\">235,146</span> (918.54 KB)\n",
       "</pre>\n"
      ],
      "text/plain": [
       "\u001b[1m Trainable params: \u001b[0m\u001b[38;5;34m235,146\u001b[0m (918.54 KB)\n"
      ]
     },
     "metadata": {},
     "output_type": "display_data"
    },
    {
     "data": {
      "text/html": [
       "<pre style=\"white-space:pre;overflow-x:auto;line-height:normal;font-family:Menlo,'DejaVu Sans Mono',consolas,'Courier New',monospace\"><span style=\"font-weight: bold\"> Non-trainable params: </span><span style=\"color: #00af00; text-decoration-color: #00af00\">0</span> (0.00 B)\n",
       "</pre>\n"
      ],
      "text/plain": [
       "\u001b[1m Non-trainable params: \u001b[0m\u001b[38;5;34m0\u001b[0m (0.00 B)\n"
      ]
     },
     "metadata": {},
     "output_type": "display_data"
    }
   ],
   "source": [
    "model.summary()"
   ]
  },
  {
   "cell_type": "code",
   "execution_count": 6,
   "metadata": {
    "execution": {
     "iopub.execute_input": "2023-12-07T19:23:17.581788Z",
     "iopub.status.busy": "2023-12-07T19:23:17.581657Z",
     "iopub.status.idle": "2023-12-07T19:23:17.586201Z",
     "shell.execute_reply": "2023-12-07T19:23:17.585959Z"
    },
    "id": "Hcp0ZX2N0ICZ"
   },
   "outputs": [],
   "source": [
    "# Specify training choices (optimizer, loss function, metrics)\n",
    "model.compile(\n",
    "    optimizer='rmsprop',  # Optimizer\n",
    "    # Loss function to minimize\n",
    "    loss='SparseCategoricalCrossentropy',\n",
    "    # List of metrics to monitor\n",
    "    metrics=['accuracy'],\n",
    ")"
   ]
  },
  {
   "cell_type": "code",
   "execution_count": 7,
   "metadata": {
    "colab": {
     "base_uri": "https://localhost:8080/"
    },
    "execution": {
     "iopub.execute_input": "2023-12-07T19:23:17.587673Z",
     "iopub.status.busy": "2023-12-07T19:23:17.587593Z",
     "iopub.status.idle": "2023-12-07T19:23:23.275776Z",
     "shell.execute_reply": "2023-12-07T19:23:23.275499Z"
    },
    "id": "TbyKluz80WiO",
    "outputId": "017ce2a2-6463-4bee-9cc6-4689c875160f"
   },
   "outputs": [
    {
     "name": "stdout",
     "output_type": "stream",
     "text": [
      "Epoch 1/5\n",
      "\u001b[1m844/844\u001b[0m \u001b[32m━━━━━━━━━━━━━━━━━━━━\u001b[0m\u001b[37m\u001b[0m \u001b[1m2s\u001b[0m 2ms/step - accuracy: 0.7318 - loss: 0.8311 - val_accuracy: 0.8012 - val_loss: 0.5648\n",
      "Epoch 2/5\n",
      "\u001b[1m844/844\u001b[0m \u001b[32m━━━━━━━━━━━━━━━━━━━━\u001b[0m\u001b[37m\u001b[0m \u001b[1m1s\u001b[0m 2ms/step - accuracy: 0.8130 - loss: 0.5299 - val_accuracy: 0.8500 - val_loss: 0.4347\n",
      "Epoch 3/5\n",
      "\u001b[1m844/844\u001b[0m \u001b[32m━━━━━━━━━━━━━━━━━━━━\u001b[0m\u001b[37m\u001b[0m \u001b[1m1s\u001b[0m 2ms/step - accuracy: 0.8333 - loss: 0.4806 - val_accuracy: 0.8272 - val_loss: 0.5204\n",
      "Epoch 4/5\n",
      "\u001b[1m844/844\u001b[0m \u001b[32m━━━━━━━━━━━━━━━━━━━━\u001b[0m\u001b[37m\u001b[0m \u001b[1m1s\u001b[0m 2ms/step - accuracy: 0.8374 - loss: 0.4614 - val_accuracy: 0.8297 - val_loss: 0.4833\n",
      "Epoch 5/5\n",
      "\u001b[1m844/844\u001b[0m \u001b[32m━━━━━━━━━━━━━━━━━━━━\u001b[0m\u001b[37m\u001b[0m \u001b[1m1s\u001b[0m 2ms/step - accuracy: 0.8420 - loss: 0.4522 - val_accuracy: 0.8452 - val_loss: 0.4482\n"
     ]
    }
   ],
   "source": [
    "# Train the model with validation\n",
    "training = model.fit(Xtrain, ytrain, batch_size=64, epochs=5, validation_split=0.1)"
   ]
  },
  {
   "cell_type": "code",
   "execution_count": 8,
   "metadata": {
    "colab": {
     "base_uri": "https://localhost:8080/"
    },
    "execution": {
     "iopub.execute_input": "2023-12-07T19:23:23.277288Z",
     "iopub.status.busy": "2023-12-07T19:23:23.277185Z",
     "iopub.status.idle": "2023-12-07T19:23:23.279348Z",
     "shell.execute_reply": "2023-12-07T19:23:23.279109Z"
    },
    "id": "hyaZA82b82RT",
    "outputId": "7f73886d-86a2-49ff-e321-177bdf9d7506"
   },
   "outputs": [
    {
     "data": {
      "text/plain": [
       "{'accuracy': [0.7778703570365906,\n",
       "  0.8210740685462952,\n",
       "  0.835444450378418,\n",
       "  0.8382592797279358,\n",
       "  0.8430185317993164],\n",
       " 'loss': [0.6457885503768921,\n",
       "  0.5085726380348206,\n",
       "  0.47645875811576843,\n",
       "  0.4595972001552582,\n",
       "  0.4471183717250824],\n",
       " 'val_accuracy': [0.8011666536331177,\n",
       "  0.8500000238418579,\n",
       "  0.8271666765213013,\n",
       "  0.8296666741371155,\n",
       "  0.8451666831970215],\n",
       " 'val_loss': [0.5647957921028137,\n",
       "  0.4347209334373474,\n",
       "  0.5203677415847778,\n",
       "  0.48332157731056213,\n",
       "  0.44819459319114685]}"
      ]
     },
     "execution_count": 8,
     "metadata": {},
     "output_type": "execute_result"
    }
   ],
   "source": [
    "# View the training history\n",
    "training.history"
   ]
  },
  {
   "cell_type": "code",
   "execution_count": 9,
   "metadata": {
    "colab": {
     "base_uri": "https://localhost:8080/"
    },
    "execution": {
     "iopub.execute_input": "2023-12-07T19:23:23.280788Z",
     "iopub.status.busy": "2023-12-07T19:23:23.280695Z",
     "iopub.status.idle": "2023-12-07T19:23:23.440979Z",
     "shell.execute_reply": "2023-12-07T19:23:23.440662Z"
    },
    "id": "dmojrYjc85oq",
    "outputId": "152be14e-ddc7-495f-a529-4299c9f27670"
   },
   "outputs": [
    {
     "name": "stdout",
     "output_type": "stream",
     "text": [
      "\u001b[1m157/157\u001b[0m \u001b[32m━━━━━━━━━━━━━━━━━━━━\u001b[0m\u001b[37m\u001b[0m \u001b[1m0s\u001b[0m 814us/step - accuracy: 0.8357 - loss: 0.4717\n",
      "Test loss, accuracy [0.48295536637306213, 0.8334000110626221]\n"
     ]
    }
   ],
   "source": [
    "# Evaluate the model on the testing data\n",
    "results = model.evaluate(Xtest, ytest, batch_size=64)\n",
    "print('Test loss, accuracy', results)"
   ]
  },
  {
   "cell_type": "code",
   "execution_count": 10,
   "metadata": {
    "colab": {
     "base_uri": "https://localhost:8080/"
    },
    "execution": {
     "iopub.execute_input": "2023-12-07T19:23:23.442546Z",
     "iopub.status.busy": "2023-12-07T19:23:23.442456Z",
     "iopub.status.idle": "2023-12-07T19:23:23.511209Z",
     "shell.execute_reply": "2023-12-07T19:23:23.510923Z"
    },
    "id": "WbgbKJ2Y-THz",
    "outputId": "55765ca9-c94b-486b-bfb5-7ef98a19dac8"
   },
   "outputs": [
    {
     "name": "stdout",
     "output_type": "stream",
     "text": [
      "\u001b[1m1/1\u001b[0m \u001b[32m━━━━━━━━━━━━━━━━━━━━\u001b[0m\u001b[37m\u001b[0m \u001b[1m0s\u001b[0m 31ms/step\n",
      "Predictions: [[0.    0.    0.    0.    0.    0.123 0.    0.285 0.001 0.591]\n",
      " [0.    0.    0.903 0.    0.035 0.    0.062 0.    0.    0.   ]\n",
      " [0.    1.    0.    0.    0.    0.    0.    0.    0.    0.   ]]\n",
      "Actual values: [9. 2. 1.]\n"
     ]
    }
   ],
   "source": [
    "# Generate predictions (probabilities -- the output of the last layer)\n",
    "predictions = model.predict(Xtest[:3])\n",
    "print('Predictions:', predictions.round(3))\n",
    "print('Actual values:', ytest[:3])"
   ]
  }
 ],
 "metadata": {
  "colab": {
   "provenance": []
  },
  "kernelspec": {
   "display_name": "Python 3 - python3",
   "language": "python3",
   "name": "python3"
  },
  "language_info": {
   "codemirror_mode": {
    "name": "ipython",
    "version": 3
   },
   "file_extension": ".py",
   "mimetype": "text/x-python",
   "name": "python",
   "nbconvert_exporter": "python",
   "pygments_lexer": "ipython3",
   "version": "3.12.4"
  }
 },
 "nbformat": 4,
 "nbformat_minor": 1
}
