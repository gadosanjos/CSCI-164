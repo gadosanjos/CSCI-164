{
 "cells": [
  {
   "attachments": {
    "image.png": {
     "image/png": "[encoded data removed]"
    }
   },
   "cell_type": "markdown",
   "metadata": {},
   "source": [
    "Setting up Keras\n",
    "\n",
    "In programming, a backend is a set of functions or modules that are not directly used by the programmer. Keras does not execute neural network training. Instead, Keras calls on a backend library to train the neural network and return the results.\n",
    "\n",
    "Before importing Keras into the Python environment, the backend must be specified using os.environ. When the code is run, Keras commands are translated into the corresponding commands from the backend library. Since the actual training is done by the backend library, changing the backend results in slight changes to the fitted weights and performance.\n",
    "\n",
    "Data may be loaded using the usual pandas commands or by using one of the Keras dataloading utilities. Ex: Images, text, and audio files are typically loaded through Keras instead of pandas. Details about loading non-CSV files into Keras can be found in the documentation.\n",
    "\n",
    "![image.png](attachment:image.png)"
   ]
  },
  {
   "cell_type": "code",
   "execution_count": 1,
   "metadata": {
    "execution": {
     "iopub.execute_input": "2023-12-07T19:22:52.877500Z",
     "iopub.status.busy": "2023-12-07T19:22:52.876342Z",
     "iopub.status.idle": "2023-12-07T19:22:53.222686Z",
     "shell.execute_reply": "2023-12-07T19:22:53.222041Z"
    },
    "id": "9PwL-dEOt0Bo"
   },
   "outputs": [],
   "source": [
    "import numpy as np\n",
    "import pandas as pd\n",
    "import os\n",
    "\n",
    "os.environ['KERAS_BACKEND'] = 'tensorflow'"
   ]
  },
  {
   "cell_type": "code",
   "execution_count": 2,
   "metadata": {
    "colab": {
     "base_uri": "https://localhost:8080/"
    },
    "execution": {
     "iopub.execute_input": "2023-12-07T19:22:53.224609Z",
     "iopub.status.busy": "2023-12-07T19:22:53.224477Z",
     "iopub.status.idle": "2023-12-07T19:22:55.928761Z",
     "shell.execute_reply": "2023-12-07T19:22:55.928435Z"
    },
    "id": "4HwvuxKouJ6s",
    "outputId": "e9193164-991e-4ba2-8e4a-6bdc334be036"
   },
   "outputs": [],
   "source": [
    "# The backend must be set before importing keras, not after\n",
    "import keras as keras\n",
    "import keras.datasets.fashion_mnist"
   ]
  },
  {
   "cell_type": "code",
   "execution_count": 3,
   "metadata": {
    "execution": {
     "iopub.execute_input": "2023-12-07T19:22:55.930953Z",
     "iopub.status.busy": "2023-12-07T19:22:55.930771Z",
     "iopub.status.idle": "2023-12-07T19:22:56.168478Z",
     "shell.execute_reply": "2023-12-07T19:22:56.168159Z"
    },
    "id": "1kuiNuZbudu6"
   },
   "outputs": [
    {
     "name": "stdout",
     "output_type": "stream",
     "text": [
      "Downloading data from https://storage.googleapis.com/tensorflow/tf-keras-datasets/train-labels-idx1-ubyte.gz\n",
      "\u001b[1m29515/29515\u001b[0m \u001b[32m━━━━━━━━━━━━━━━━━━━━\u001b[0m\u001b[37m\u001b[0m \u001b[1m0s\u001b[0m 1us/step\n",
      "Downloading data from https://storage.googleapis.com/tensorflow/tf-keras-datasets/train-images-idx3-ubyte.gz\n",
      "\u001b[1m26421880/26421880\u001b[0m \u001b[32m━━━━━━━━━━━━━━━━━━━━\u001b[0m\u001b[37m\u001b[0m \u001b[1m1s\u001b[0m 0us/step\n",
      "Downloading data from https://storage.googleapis.com/tensorflow/tf-keras-datasets/t10k-labels-idx1-ubyte.gz\n",
      "\u001b[1m5148/5148\u001b[0m \u001b[32m━━━━━━━━━━━━━━━━━━━━\u001b[0m\u001b[37m\u001b[0m \u001b[1m0s\u001b[0m 0us/step\n",
      "Downloading data from https://storage.googleapis.com/tensorflow/tf-keras-datasets/t10k-images-idx3-ubyte.gz\n",
      "\u001b[1m4422102/4422102\u001b[0m \u001b[32m━━━━━━━━━━━━━━━━━━━━\u001b[0m\u001b[37m\u001b[0m \u001b[1m0s\u001b[0m 0us/step\n"
     ]
    }
   ],
   "source": [
    "# Load built-in Fashion MNIST\n",
    "(Xtrain, ytrain), (Xtest, ytest) = keras.datasets.fashion_mnist.load_data()"
   ]
  },
  {
   "cell_type": "code",
   "execution_count": 4,
   "metadata": {
    "colab": {
     "base_uri": "https://localhost:8080/"
    },
    "execution": {
     "iopub.execute_input": "2023-12-07T19:22:56.170152Z",
     "iopub.status.busy": "2023-12-07T19:22:56.170059Z",
     "iopub.status.idle": "2023-12-07T19:22:56.174157Z",
     "shell.execute_reply": "2023-12-07T19:22:56.173892Z"
    },
    "id": "L-6kqGbsuiv_",
    "outputId": "2ec7b8c7-f3d8-4493-b86e-3f6042122c57"
   },
   "outputs": [
    {
     "data": {
      "text/plain": [
       "array([[[0, 0, 0, ..., 0, 0, 0],\n",
       "        [0, 0, 0, ..., 0, 0, 0],\n",
       "        [0, 0, 0, ..., 0, 0, 0],\n",
       "        ...,\n",
       "        [0, 0, 0, ..., 0, 0, 0],\n",
       "        [0, 0, 0, ..., 0, 0, 0],\n",
       "        [0, 0, 0, ..., 0, 0, 0]],\n",
       "\n",
       "       [[0, 0, 0, ..., 0, 0, 0],\n",
       "        [0, 0, 0, ..., 0, 0, 0],\n",
       "        [0, 0, 0, ..., 0, 0, 0],\n",
       "        ...,\n",
       "        [0, 0, 0, ..., 0, 0, 0],\n",
       "        [0, 0, 0, ..., 0, 0, 0],\n",
       "        [0, 0, 0, ..., 0, 0, 0]],\n",
       "\n",
       "       [[0, 0, 0, ..., 0, 0, 0],\n",
       "        [0, 0, 0, ..., 0, 0, 0],\n",
       "        [0, 0, 0, ..., 0, 0, 0],\n",
       "        ...,\n",
       "        [0, 0, 0, ..., 0, 0, 0],\n",
       "        [0, 0, 0, ..., 0, 0, 0],\n",
       "        [0, 0, 0, ..., 0, 0, 0]],\n",
       "\n",
       "       ...,\n",
       "\n",
       "       [[0, 0, 0, ..., 0, 0, 0],\n",
       "        [0, 0, 0, ..., 0, 0, 0],\n",
       "        [0, 0, 0, ..., 0, 0, 0],\n",
       "        ...,\n",
       "        [0, 0, 0, ..., 0, 0, 0],\n",
       "        [0, 0, 0, ..., 0, 0, 0],\n",
       "        [0, 0, 0, ..., 0, 0, 0]],\n",
       "\n",
       "       [[0, 0, 0, ..., 0, 0, 0],\n",
       "        [0, 0, 0, ..., 0, 0, 0],\n",
       "        [0, 0, 0, ..., 0, 0, 0],\n",
       "        ...,\n",
       "        [0, 0, 0, ..., 0, 0, 0],\n",
       "        [0, 0, 0, ..., 0, 0, 0],\n",
       "        [0, 0, 0, ..., 0, 0, 0]],\n",
       "\n",
       "       [[0, 0, 0, ..., 0, 0, 0],\n",
       "        [0, 0, 0, ..., 0, 0, 0],\n",
       "        [0, 0, 0, ..., 0, 0, 0],\n",
       "        ...,\n",
       "        [0, 0, 0, ..., 0, 0, 0],\n",
       "        [0, 0, 0, ..., 0, 0, 0],\n",
       "        [0, 0, 0, ..., 0, 0, 0]]], dtype=uint8)"
      ]
     },
     "execution_count": 4,
     "metadata": {},
     "output_type": "execute_result"
    }
   ],
   "source": [
    "# View training data\n",
    "Xtrain"
   ]
  },
  {
   "cell_type": "code",
   "execution_count": 5,
   "metadata": {
    "colab": {
     "base_uri": "https://localhost:8080/"
    },
    "execution": {
     "iopub.execute_input": "2023-12-07T19:22:56.175457Z",
     "iopub.status.busy": "2023-12-07T19:22:56.175371Z",
     "iopub.status.idle": "2023-12-07T19:22:56.250250Z",
     "shell.execute_reply": "2023-12-07T19:22:56.249984Z"
    },
    "id": "s9ohaXSMwygf",
    "outputId": "f5139b95-8b53-4b69-947a-c706e0d55401"
   },
   "outputs": [
    {
     "name": "stdout",
     "output_type": "stream",
     "text": [
      "Xtrain shape: (60000, 28, 28)\n",
      "ytrain shape: (60000,)\n",
      "Training instances: 60000\n",
      "Testing instances: 10000\n"
     ]
    }
   ],
   "source": [
    "# Scale images to the [0, 1] range\n",
    "Xtrain = Xtrain.astype('float32') / 255\n",
    "Xtest = Xtest.astype('float32') / 255\n",
    "\n",
    "# View input shape and number of instances\n",
    "print('Xtrain shape:', Xtrain.shape)\n",
    "print('ytrain shape:', ytrain.shape)\n",
    "print('Training instances:', Xtrain.shape[0])\n",
    "print('Testing instances:', Xtest.shape[0])"
   ]
  }
 ],
 "metadata": {
  "colab": {
   "provenance": []
  },
  "kernelspec": {
   "display_name": "Python 3 - python3",
   "language": "python3",
   "name": "python3"
  },
  "language_info": {
   "codemirror_mode": {
    "name": "ipython",
    "version": 3
   },
   "file_extension": ".py",
   "mimetype": "text/x-python",
   "name": "python",
   "nbconvert_exporter": "python",
   "pygments_lexer": "ipython3",
   "version": "3.12.4"
  }
 },
 "nbformat": 4,
 "nbformat_minor": 1
}
