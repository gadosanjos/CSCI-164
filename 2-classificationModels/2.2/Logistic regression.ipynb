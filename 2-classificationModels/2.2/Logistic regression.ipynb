{
 "cells": [
  {
   "cell_type": "code",
   "execution_count": 18,
   "id": "f79cd7f5",
   "metadata": {
    "execution": {
     "iopub.execute_input": "2023-12-14T17:07:31.274302Z",
     "iopub.status.busy": "2023-12-14T17:07:31.273567Z",
     "iopub.status.idle": "2023-12-14T17:07:32.125554Z",
     "shell.execute_reply": "2023-12-14T17:07:32.125262Z"
    },
    "id": "f79cd7f5"
   },
   "outputs": [],
   "source": [
    "import numpy as np\n",
    "import pandas as pd\n",
    "import matplotlib.pyplot as plt\n",
    "import seaborn as sns\n",
    "\n",
    "from sklearn.linear_model import LogisticRegression\n",
    "from mlxtend.plotting import plot_decision_regions"
   ]
  },
  {
   "cell_type": "code",
   "execution_count": 19,
   "id": "6f282eca",
   "metadata": {
    "execution": {
     "iopub.execute_input": "2023-12-14T17:07:32.127391Z",
     "iopub.status.busy": "2023-12-14T17:07:32.127229Z",
     "iopub.status.idle": "2023-12-14T17:07:32.131321Z",
     "shell.execute_reply": "2023-12-14T17:07:32.131029Z"
    },
    "id": "6f282eca",
    "outputId": "9a26f4a8-521b-4826-8fb6-796ed693835c"
   },
   "outputs": [],
   "source": [
    "# Load the penguins dataset and drop instances with missing values\n",
    "penguins = pd.read_csv('penguins.csv').dropna()"
   ]
  },
  {
   "cell_type": "code",
   "execution_count": 20,
   "id": "80432869",
   "metadata": {
    "execution": {
     "iopub.execute_input": "2023-12-14T17:07:32.132877Z",
     "iopub.status.busy": "2023-12-14T17:07:32.132761Z",
     "iopub.status.idle": "2023-12-14T17:07:32.141184Z",
     "shell.execute_reply": "2023-12-14T17:07:32.140932Z"
    },
    "id": "80432869",
    "outputId": "a29d8f50-3aec-4b65-a9f9-dfdb82c8cc57"
   },
   "outputs": [
    {
     "name": "stderr",
     "output_type": "stream",
     "text": [
      "C:\\Users\\Gabe\\AppData\\Local\\Temp\\ipykernel_27932\\3815399226.py:2: FutureWarning: Downcasting behavior in `replace` is deprecated and will be removed in a future version. To retain the old behavior, explicitly call `result.infer_objects(copy=False)`. To opt-in to the future behavior, set `pd.set_option('future.no_silent_downcasting', True)`\n",
      "  penguins['Adelie'] = penguins['species'].replace(to_replace = ['Adelie','Chinstrap', 'Gentoo'],\n",
      "C:\\Users\\Gabe\\AppData\\Local\\Temp\\ipykernel_27932\\3815399226.py:4: FutureWarning: Downcasting behavior in `replace` is deprecated and will be removed in a future version. To retain the old behavior, explicitly call `result.infer_objects(copy=False)`. To opt-in to the future behavior, set `pd.set_option('future.no_silent_downcasting', True)`\n",
      "  penguins['Chinstrap'] = penguins['species'].replace(to_replace = ['Adelie','Chinstrap', 'Gentoo'],\n",
      "C:\\Users\\Gabe\\AppData\\Local\\Temp\\ipykernel_27932\\3815399226.py:6: FutureWarning: Downcasting behavior in `replace` is deprecated and will be removed in a future version. To retain the old behavior, explicitly call `result.infer_objects(copy=False)`. To opt-in to the future behavior, set `pd.set_option('future.no_silent_downcasting', True)`\n",
      "  penguins['Gentoo'] = penguins['species'].replace(to_replace = ['Adelie','Chinstrap', 'Gentoo'],\n"
     ]
    },
    {
     "data": {
      "text/html": [
       "<div>\n",
       "<style scoped>\n",
       "    .dataframe tbody tr th:only-of-type {\n",
       "        vertical-align: middle;\n",
       "    }\n",
       "\n",
       "    .dataframe tbody tr th {\n",
       "        vertical-align: top;\n",
       "    }\n",
       "\n",
       "    .dataframe thead th {\n",
       "        text-align: right;\n",
       "    }\n",
       "</style>\n",
       "<table border=\"1\" class=\"dataframe\">\n",
       "  <thead>\n",
       "    <tr style=\"text-align: right;\">\n",
       "      <th></th>\n",
       "      <th>species</th>\n",
       "      <th>island</th>\n",
       "      <th>bill_length_mm</th>\n",
       "      <th>bill_depth_mm</th>\n",
       "      <th>flipper_length_mm</th>\n",
       "      <th>body_mass_g</th>\n",
       "      <th>sex</th>\n",
       "      <th>Adelie</th>\n",
       "      <th>Chinstrap</th>\n",
       "      <th>Gentoo</th>\n",
       "    </tr>\n",
       "  </thead>\n",
       "  <tbody>\n",
       "    <tr>\n",
       "      <th>0</th>\n",
       "      <td>Adelie</td>\n",
       "      <td>Torgersen</td>\n",
       "      <td>39.1</td>\n",
       "      <td>18.7</td>\n",
       "      <td>181.0</td>\n",
       "      <td>3750.0</td>\n",
       "      <td>Male</td>\n",
       "      <td>1</td>\n",
       "      <td>0</td>\n",
       "      <td>0</td>\n",
       "    </tr>\n",
       "    <tr>\n",
       "      <th>1</th>\n",
       "      <td>Adelie</td>\n",
       "      <td>Torgersen</td>\n",
       "      <td>39.5</td>\n",
       "      <td>17.4</td>\n",
       "      <td>186.0</td>\n",
       "      <td>3800.0</td>\n",
       "      <td>Female</td>\n",
       "      <td>1</td>\n",
       "      <td>0</td>\n",
       "      <td>0</td>\n",
       "    </tr>\n",
       "    <tr>\n",
       "      <th>2</th>\n",
       "      <td>Adelie</td>\n",
       "      <td>Torgersen</td>\n",
       "      <td>40.3</td>\n",
       "      <td>18.0</td>\n",
       "      <td>195.0</td>\n",
       "      <td>3250.0</td>\n",
       "      <td>Female</td>\n",
       "      <td>1</td>\n",
       "      <td>0</td>\n",
       "      <td>0</td>\n",
       "    </tr>\n",
       "    <tr>\n",
       "      <th>4</th>\n",
       "      <td>Adelie</td>\n",
       "      <td>Torgersen</td>\n",
       "      <td>36.7</td>\n",
       "      <td>19.3</td>\n",
       "      <td>193.0</td>\n",
       "      <td>3450.0</td>\n",
       "      <td>Female</td>\n",
       "      <td>1</td>\n",
       "      <td>0</td>\n",
       "      <td>0</td>\n",
       "    </tr>\n",
       "    <tr>\n",
       "      <th>5</th>\n",
       "      <td>Adelie</td>\n",
       "      <td>Torgersen</td>\n",
       "      <td>39.3</td>\n",
       "      <td>20.6</td>\n",
       "      <td>190.0</td>\n",
       "      <td>3650.0</td>\n",
       "      <td>Male</td>\n",
       "      <td>1</td>\n",
       "      <td>0</td>\n",
       "      <td>0</td>\n",
       "    </tr>\n",
       "  </tbody>\n",
       "</table>\n",
       "</div>"
      ],
      "text/plain": [
       "  species     island  bill_length_mm  bill_depth_mm  flipper_length_mm  \\\n",
       "0  Adelie  Torgersen            39.1           18.7              181.0   \n",
       "1  Adelie  Torgersen            39.5           17.4              186.0   \n",
       "2  Adelie  Torgersen            40.3           18.0              195.0   \n",
       "4  Adelie  Torgersen            36.7           19.3              193.0   \n",
       "5  Adelie  Torgersen            39.3           20.6              190.0   \n",
       "\n",
       "   body_mass_g     sex  Adelie  Chinstrap  Gentoo  \n",
       "0       3750.0    Male       1          0       0  \n",
       "1       3800.0  Female       1          0       0  \n",
       "2       3250.0  Female       1          0       0  \n",
       "4       3450.0  Female       1          0       0  \n",
       "5       3650.0    Male       1          0       0  "
      ]
     },
     "execution_count": 20,
     "metadata": {},
     "output_type": "execute_result"
    }
   ],
   "source": [
    "# Create binary feature for each species\n",
    "penguins['Adelie'] = penguins['species'].replace(to_replace = ['Adelie','Chinstrap', 'Gentoo'],\n",
    "                                                      value = [int(1), int(0), int(0)])\n",
    "penguins['Chinstrap'] = penguins['species'].replace(to_replace = ['Adelie','Chinstrap', 'Gentoo'],\n",
    "                                                      value = [int(0), int(1), int(0)])\n",
    "penguins['Gentoo'] = penguins['species'].replace(to_replace = ['Adelie','Chinstrap', 'Gentoo'],\n",
    "                                                      value = [int(0), int(0), int(1)])\n",
    "penguins.head()"
   ]
  },
  {
   "cell_type": "code",
   "execution_count": 21,
   "id": "48da69b8",
   "metadata": {
    "execution": {
     "iopub.execute_input": "2023-12-14T17:07:32.142685Z",
     "iopub.status.busy": "2023-12-14T17:07:32.142606Z",
     "iopub.status.idle": "2023-12-14T17:07:32.144827Z",
     "shell.execute_reply": "2023-12-14T17:07:32.144574Z"
    },
    "id": "48da69b8"
   },
   "outputs": [],
   "source": [
    "# Define input features and output features\n",
    "X = penguins[['bill_length_mm']]\n",
    "y = penguins[['Adelie']]"
   ]
  },
  {
   "cell_type": "code",
   "execution_count": 23,
   "id": "b9e8659f",
   "metadata": {
    "execution": {
     "iopub.execute_input": "2023-12-14T17:07:32.146236Z",
     "iopub.status.busy": "2023-12-14T17:07:32.146147Z",
     "iopub.status.idle": "2023-12-14T17:07:32.150707Z",
     "shell.execute_reply": "2023-12-14T17:07:32.150452Z"
    },
    "id": "b9e8659f",
    "outputId": "e26ada34-161b-4961-ae4a-d9350de2f5cd"
   },
   "outputs": [
    {
     "name": "stdout",
     "output_type": "stream",
     "text": [
      "w1: [[-1.14305418]]\n",
      "w0: [49.01692562]\n"
     ]
    }
   ],
   "source": [
    "# Initialize a logistic regression model\n",
    "logisticModel = LogisticRegression(penalty='l2')\n",
    "\n",
    "# Fit the model\n",
    "logisticModel.fit(X, np.ravel(y))\n",
    "\n",
    "# Print the fitted model\n",
    "print('w1:', logisticModel.coef_)\n",
    "print('w0:', logisticModel.intercept_)"
   ]
  },
  {
   "cell_type": "code",
   "execution_count": 6,
   "id": "0c50c9f2",
   "metadata": {
    "execution": {
     "iopub.execute_input": "2023-12-14T17:07:32.152181Z",
     "iopub.status.busy": "2023-12-14T17:07:32.152099Z",
     "iopub.status.idle": "2023-12-14T17:07:32.154784Z",
     "shell.execute_reply": "2023-12-14T17:07:32.154528Z"
    },
    "id": "0c50c9f2",
    "outputId": "94820099-1aea-4af8-d5c2-376e552f1af1"
   },
   "outputs": [
    {
     "data": {
      "text/plain": [
       "array([[1.17799505e-02, 9.88220049e-01],\n",
       "       [1.86912372e-02, 9.81308763e-01],\n",
       "       [4.63761416e-02, 9.53623858e-01],\n",
       "       [7.15687573e-04, 9.99284312e-01],\n",
       "       [1.48445101e-02, 9.85155490e-01],\n",
       "       [9.34205137e-03, 9.90657949e-01]])"
      ]
     },
     "execution_count": 6,
     "metadata": {},
     "output_type": "execute_result"
    }
   ],
   "source": [
    "# Calculate predicted probabilities\n",
    "logisticModel.predict_proba(X)[0:6]"
   ]
  },
  {
   "cell_type": "code",
   "execution_count": 7,
   "id": "1d467e9e",
   "metadata": {
    "execution": {
     "iopub.execute_input": "2023-12-14T17:07:32.156158Z",
     "iopub.status.busy": "2023-12-14T17:07:32.156060Z",
     "iopub.status.idle": "2023-12-14T17:07:32.158430Z",
     "shell.execute_reply": "2023-12-14T17:07:32.158176Z"
    },
    "id": "1d467e9e",
    "outputId": "a5006bee-dfe8-48b4-9933-3d922e9d3c1b"
   },
   "outputs": [
    {
     "data": {
      "text/plain": [
       "array([1, 1, 1, 1, 1, 1], dtype=int64)"
      ]
     },
     "execution_count": 7,
     "metadata": {},
     "output_type": "execute_result"
    }
   ],
   "source": [
    "# Classify instances in X\n",
    "logisticModel.predict(X)[0:6]"
   ]
  },
  {
   "cell_type": "code",
   "execution_count": 8,
   "id": "ac6aed6f",
   "metadata": {
    "execution": {
     "iopub.execute_input": "2023-12-14T17:07:32.159755Z",
     "iopub.status.busy": "2023-12-14T17:07:32.159655Z",
     "iopub.status.idle": "2023-12-14T17:07:32.162189Z",
     "shell.execute_reply": "2023-12-14T17:07:32.161966Z"
    },
    "id": "ac6aed6f",
    "outputId": "c0c59e37-50f7-4b1c-f9e7-39bc5c08d16e"
   },
   "outputs": [
    {
     "data": {
      "text/plain": [
       "0.9429429429429429"
      ]
     },
     "execution_count": 8,
     "metadata": {},
     "output_type": "execute_result"
    }
   ],
   "source": [
    "# Calculate the proportion of instances correctly classified\n",
    "logisticModel.score(X, np.ravel(y))"
   ]
  },
  {
   "cell_type": "code",
   "execution_count": 9,
   "id": "c0708570",
   "metadata": {
    "execution": {
     "iopub.execute_input": "2023-12-14T17:07:32.163596Z",
     "iopub.status.busy": "2023-12-14T17:07:32.163503Z",
     "iopub.status.idle": "2023-12-14T17:07:32.225875Z",
     "shell.execute_reply": "2023-12-14T17:07:32.225556Z"
    },
    "id": "c0708570",
    "outputId": "d01c4375-a238-4d08-813b-69a59c850092"
   },
   "outputs": [
    {
     "name": "stderr",
     "output_type": "stream",
     "text": [
      "c:\\Users\\Gabe\\AppData\\Local\\Programs\\Python\\Python312\\Lib\\site-packages\\sklearn\\base.py:493: UserWarning: X does not have valid feature names, but LogisticRegression was fitted with feature names\n",
      "  warnings.warn(\n"
     ]
    },
    {
     "data": {
      "text/plain": [
       "Text(0, 0.5, 'Probability of Adelie')"
      ]
     },
     "execution_count": 9,
     "metadata": {},
     "output_type": "execute_result"
    },
    {
     "data": {
      "image/png": "[encoded data removed]",
      "text/plain": [
       "<Figure size 640x480 with 1 Axes>"
      ]
     },
     "metadata": {},
     "output_type": "display_data"
    }
   ],
   "source": [
    "# Plot logistic regression model\n",
    "plt.scatter(X, y, color='black')\n",
    "\n",
    "xrange = np.linspace(X.min(), X.max(), 10000)\n",
    "yhat = logisticModel.predict(X).reshape(-1, 1).astype(int)\n",
    "yprob = logisticModel.predict_proba(xrange.reshape(-1, 1))[:, 1]\n",
    "\n",
    "plt.plot(xrange, yprob, color='#4878d0', linewidth=2)\n",
    "plt.xlabel('Bill length (mm)', fontsize=14)\n",
    "plt.ylabel('Probability of Adelie', fontsize=14)"
   ]
  },
  {
   "cell_type": "code",
   "execution_count": 10,
   "id": "c2831466",
   "metadata": {
    "execution": {
     "iopub.execute_input": "2023-12-14T17:07:32.227775Z",
     "iopub.status.busy": "2023-12-14T17:07:32.227607Z",
     "iopub.status.idle": "2023-12-14T17:07:32.230268Z",
     "shell.execute_reply": "2023-12-14T17:07:32.229984Z"
    },
    "id": "c2831466"
   },
   "outputs": [],
   "source": [
    "# Use additional input features\n",
    "X = penguins[['bill_length_mm', 'bill_depth_mm']]\n",
    "y = penguins[['Adelie']]"
   ]
  },
  {
   "cell_type": "code",
   "execution_count": 11,
   "id": "1459bff0",
   "metadata": {
    "execution": {
     "iopub.execute_input": "2023-12-14T17:07:32.231912Z",
     "iopub.status.busy": "2023-12-14T17:07:32.231797Z",
     "iopub.status.idle": "2023-12-14T17:07:32.240423Z",
     "shell.execute_reply": "2023-12-14T17:07:32.239916Z"
    },
    "id": "1459bff0",
    "outputId": "9f00a60a-65b2-4c35-ec2d-a8b8a9f245ff"
   },
   "outputs": [
    {
     "name": "stdout",
     "output_type": "stream",
     "text": [
      "w1, w2: [[-2.2096875   3.99767721]]\n",
      "w0: [24.13003698]\n"
     ]
    }
   ],
   "source": [
    "# Initialize a logistic regression model\n",
    "logisticModel = LogisticRegression(penalty=None)\n",
    "\n",
    "# Fit the model\n",
    "logisticModel.fit(X, np.ravel(y))\n",
    "\n",
    "# Print the fitted model\n",
    "print('w1, w2:', logisticModel.coef_)\n",
    "print('w0:', logisticModel.intercept_)"
   ]
  },
  {
   "cell_type": "code",
   "execution_count": 12,
   "id": "3a6b680c",
   "metadata": {
    "execution": {
     "iopub.execute_input": "2023-12-14T17:07:32.242351Z",
     "iopub.status.busy": "2023-12-14T17:07:32.242224Z",
     "iopub.status.idle": "2023-12-14T17:07:32.247314Z",
     "shell.execute_reply": "2023-12-14T17:07:32.246777Z"
    },
    "id": "3a6b680c",
    "outputId": "57d5f107-ed04-4d56-a799-e41fd64fa662"
   },
   "outputs": [
    {
     "data": {
      "text/plain": [
       "0.9819819819819819"
      ]
     },
     "execution_count": 12,
     "metadata": {},
     "output_type": "execute_result"
    }
   ],
   "source": [
    "# Proportion of instances correctly classified\n",
    "logisticModel.score(X, y)"
   ]
  },
  {
   "cell_type": "code",
   "execution_count": 13,
   "id": "256f57b0",
   "metadata": {
    "execution": {
     "iopub.execute_input": "2023-12-14T17:07:32.249006Z",
     "iopub.status.busy": "2023-12-14T17:07:32.248885Z",
     "iopub.status.idle": "2023-12-14T17:07:32.460636Z",
     "shell.execute_reply": "2023-12-14T17:07:32.449415Z"
    },
    "id": "256f57b0",
    "outputId": "e511303a-276c-4221-fc93-aa7c51653588"
   },
   "outputs": [
    {
     "name": "stderr",
     "output_type": "stream",
     "text": [
      "c:\\Users\\Gabe\\AppData\\Local\\Programs\\Python\\Python312\\Lib\\site-packages\\sklearn\\base.py:493: UserWarning: X does not have valid feature names, but LogisticRegression was fitted with feature names\n",
      "  warnings.warn(\n"
     ]
    },
    {
     "data": {
      "image/png": "[encoded data removed]",
      "text/plain": [
       "<Figure size 640x480 with 1 Axes>"
      ]
     },
     "metadata": {},
     "output_type": "display_data"
    }
   ],
   "source": [
    "# Decision boundary plot with two input features\n",
    "# Set background opacity to 20%\n",
    "contourf_kwargs = {'alpha': 0.2}\n",
    "\n",
    "# Plot decision boundary regions\n",
    "p = plot_decision_regions(X.to_numpy(), np.ravel(y),\n",
    "                          clf=logisticModel, contourf_kwargs=contourf_kwargs,\n",
    "                          colors='#7f7f7f,#1f77b4')\n",
    "\n",
    "# Add title and axis labels\n",
    "p.set_title('Decision boundary plot', fontsize=16)\n",
    "p.set_xlabel('Bill length (mm)', fontsize=14)\n",
    "p.set_ylabel('Bill depth (mm)', fontsize=14)\n",
    "\n",
    "# Add legend\n",
    "L = plt.legend()\n",
    "L.get_texts()[0].set_text('Chinstrap or Gentoo')\n",
    "L.get_texts()[1].set_text('Adelie')"
   ]
  }
 ],
 "metadata": {
  "colab": {
   "provenance": []
  },
  "kernelspec": {
   "display_name": "Python 3 - python3",
   "language": "python3",
   "name": "python3"
  },
  "language_info": {
   "codemirror_mode": {
    "name": "ipython",
    "version": 3
   },
   "file_extension": ".py",
   "mimetype": "text/x-python",
   "name": "python",
   "nbconvert_exporter": "python",
   "pygments_lexer": "ipython3",
   "version": "3.12.4"
  }
 },
 "nbformat": 4,
 "nbformat_minor": 5
}
