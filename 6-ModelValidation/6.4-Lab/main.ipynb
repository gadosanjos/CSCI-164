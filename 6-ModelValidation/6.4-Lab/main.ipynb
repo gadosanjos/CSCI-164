{
 "cells": [
  {
   "cell_type": "code",
   "execution_count": 1,
   "metadata": {},
   "outputs": [],
   "source": [
    "import numpy as np\n",
    "import pandas as pd\n",
    "from sklearn.model_selection import train_test_split\n",
    "from sklearn.model_selection import cross_validate\n",
    "from sklearn import linear_model\n",
    "from sklearn.linear_model import LinearRegression"
   ]
  },
  {
   "cell_type": "code",
   "execution_count": 3,
   "metadata": {},
   "outputs": [],
   "source": [
    "taxis = pd.read_csv('taxis.csv')\n",
    "\n",
    "# Create dataframe X with features passengers and distance\n",
    "X = taxis[['passengers', 'distance']]\n",
    "\n",
    "# Create dataframe y with feature rate. \n",
    "y = taxis[['fare']]"
   ]
  },
  {
   "cell_type": "code",
   "execution_count": 4,
   "metadata": {},
   "outputs": [],
   "source": [
    "# Set aside 10% of instances for testing\n",
    "X_train, X_test, y_train, y_test = train_test_split(X,y,test_size=0.1,random_state=42)\n",
    "# Split training again into 70% training and 20% validation\n",
    "X_train, X_val, y_train, y_val = train_test_split(X_train,y_train,test_size=0.2/(1-0.1),random_state=42)"
   ]
  },
  {
   "cell_type": "code",
   "execution_count": 9,
   "metadata": {},
   "outputs": [
    {
     "name": "stdout",
     "output_type": "stream",
     "text": [
      "Instances in training: 4502\n",
      "Instances in validation: 1287\n",
      "Instances in testing: 644\n"
     ]
    }
   ],
   "source": [
    "print('Instances in training:', len(X_train))\n",
    "print('Instances in validation:', len(X_val))\n",
    "print('Instances in testing:', len(X_test))"
   ]
  },
  {
   "cell_type": "code",
   "execution_count": 6,
   "metadata": {},
   "outputs": [],
   "source": [
    "# Initialize a linear regression model\n",
    "linRegModel = LinearRegression()\n",
    "\n",
    "# Fit the model with 15-fold cross-validation to the training data, \n",
    "# using 'explained_variance' as the performance metric\n",
    "cv_results = cross_validate(linRegModel, X_train,y_train,cv=15,scoring='explained_variance')"
   ]
  },
  {
   "cell_type": "code",
   "execution_count": 8,
   "metadata": {},
   "outputs": [
    {
     "name": "stdout",
     "output_type": "stream",
     "text": [
      "Test score: [0.87175263 0.73289597 0.92029067 0.88453947 0.929615   0.85881247\n",
      " 0.85212799 0.95704845 0.85522208 0.94748536 0.90784429 0.86751633\n",
      " 0.81471568 0.89415477 0.91573941]\n"
     ]
    }
   ],
   "source": [
    "# Print the explained variance for each fold\n",
    "print(\"Test score:\", cv_results['test_score'])"
   ]
  }
 ],
 "metadata": {
  "kernelspec": {
   "display_name": "Python 3",
   "language": "python",
   "name": "python3"
  },
  "language_info": {
   "codemirror_mode": {
    "name": "ipython",
    "version": 3
   },
   "file_extension": ".py",
   "mimetype": "text/x-python",
   "name": "python",
   "nbconvert_exporter": "python",
   "pygments_lexer": "ipython3",
   "version": "3.12.4"
  }
 },
 "nbformat": 4,
 "nbformat_minor": 2
}
