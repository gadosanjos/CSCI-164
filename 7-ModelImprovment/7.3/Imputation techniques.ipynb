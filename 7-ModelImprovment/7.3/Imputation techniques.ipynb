{
 "cells": [
  {
   "cell_type": "code",
   "execution_count": 1,
   "id": "d8be678a-f0f2-4b93-a204-df48a65ea4d0",
   "metadata": {
    "execution": {
     "iopub.execute_input": "2023-12-14T17:08:24.628808Z",
     "iopub.status.busy": "2023-12-14T17:08:24.628370Z",
     "iopub.status.idle": "2023-12-14T17:08:25.162258Z",
     "shell.execute_reply": "2023-12-14T17:08:25.161907Z"
    }
   },
   "outputs": [],
   "source": [
    "# Load the necessary libraries\n",
    "import pandas as pd\n",
    "from sklearn.experimental import enable_iterative_imputer\n",
    "from sklearn.impute import SimpleImputer\n",
    "from sklearn.impute import KNNImputer\n",
    "from sklearn.impute import IterativeImputer\n",
    "from sklearn.preprocessing import MinMaxScaler"
   ]
  },
  {
   "cell_type": "code",
   "execution_count": 2,
   "id": "a2e2bbee-3981-4eb4-90c2-f4977623a415",
   "metadata": {
    "execution": {
     "iopub.execute_input": "2023-12-14T17:08:25.164105Z",
     "iopub.status.busy": "2023-12-14T17:08:25.163963Z",
     "iopub.status.idle": "2023-12-14T17:08:25.563667Z",
     "shell.execute_reply": "2023-12-14T17:08:25.563373Z"
    }
   },
   "outputs": [],
   "source": [
    "# Load the rent.csv dataset and uses the following feature:\n",
    "# beds, baths, sqft, and price\n",
    "rent = pd.read_csv('rent.csv')\n",
    "rent = rent[['beds','baths','sqft','price']]\n",
    "rent_features = rent[['beds','baths','sqft']]"
   ]
  },
  {
   "cell_type": "code",
   "execution_count": 3,
   "id": "1b7f4a2b-7114-4384-b82f-0f87491930f7",
   "metadata": {
    "execution": {
     "iopub.execute_input": "2023-12-14T17:08:25.565625Z",
     "iopub.status.busy": "2023-12-14T17:08:25.565498Z",
     "iopub.status.idle": "2023-12-14T17:08:25.614421Z",
     "shell.execute_reply": "2023-12-14T17:08:25.614134Z"
    }
   },
   "outputs": [
    {
     "data": {
      "text/html": [
       "<style>#sk-container-id-1 {color: black;background-color: white;}#sk-container-id-1 pre{padding: 0;}#sk-container-id-1 div.sk-toggleable {background-color: white;}#sk-container-id-1 label.sk-toggleable__label {cursor: pointer;display: block;width: 100%;margin-bottom: 0;padding: 0.3em;box-sizing: border-box;text-align: center;}#sk-container-id-1 label.sk-toggleable__label-arrow:before {content: \"▸\";float: left;margin-right: 0.25em;color: #696969;}#sk-container-id-1 label.sk-toggleable__label-arrow:hover:before {color: black;}#sk-container-id-1 div.sk-estimator:hover label.sk-toggleable__label-arrow:before {color: black;}#sk-container-id-1 div.sk-toggleable__content {max-height: 0;max-width: 0;overflow: hidden;text-align: left;background-color: #f0f8ff;}#sk-container-id-1 div.sk-toggleable__content pre {margin: 0.2em;color: black;border-radius: 0.25em;background-color: #f0f8ff;}#sk-container-id-1 input.sk-toggleable__control:checked~div.sk-toggleable__content {max-height: 200px;max-width: 100%;overflow: auto;}#sk-container-id-1 input.sk-toggleable__control:checked~label.sk-toggleable__label-arrow:before {content: \"▾\";}#sk-container-id-1 div.sk-estimator input.sk-toggleable__control:checked~label.sk-toggleable__label {background-color: #d4ebff;}#sk-container-id-1 div.sk-label input.sk-toggleable__control:checked~label.sk-toggleable__label {background-color: #d4ebff;}#sk-container-id-1 input.sk-hidden--visually {border: 0;clip: rect(1px 1px 1px 1px);clip: rect(1px, 1px, 1px, 1px);height: 1px;margin: -1px;overflow: hidden;padding: 0;position: absolute;width: 1px;}#sk-container-id-1 div.sk-estimator {font-family: monospace;background-color: #f0f8ff;border: 1px dotted black;border-radius: 0.25em;box-sizing: border-box;margin-bottom: 0.5em;}#sk-container-id-1 div.sk-estimator:hover {background-color: #d4ebff;}#sk-container-id-1 div.sk-parallel-item::after {content: \"\";width: 100%;border-bottom: 1px solid gray;flex-grow: 1;}#sk-container-id-1 div.sk-label:hover label.sk-toggleable__label {background-color: #d4ebff;}#sk-container-id-1 div.sk-serial::before {content: \"\";position: absolute;border-left: 1px solid gray;box-sizing: border-box;top: 0;bottom: 0;left: 50%;z-index: 0;}#sk-container-id-1 div.sk-serial {display: flex;flex-direction: column;align-items: center;background-color: white;padding-right: 0.2em;padding-left: 0.2em;position: relative;}#sk-container-id-1 div.sk-item {position: relative;z-index: 1;}#sk-container-id-1 div.sk-parallel {display: flex;align-items: stretch;justify-content: center;background-color: white;position: relative;}#sk-container-id-1 div.sk-item::before, #sk-container-id-1 div.sk-parallel-item::before {content: \"\";position: absolute;border-left: 1px solid gray;box-sizing: border-box;top: 0;bottom: 0;left: 50%;z-index: -1;}#sk-container-id-1 div.sk-parallel-item {display: flex;flex-direction: column;z-index: 1;position: relative;background-color: white;}#sk-container-id-1 div.sk-parallel-item:first-child::after {align-self: flex-end;width: 50%;}#sk-container-id-1 div.sk-parallel-item:last-child::after {align-self: flex-start;width: 50%;}#sk-container-id-1 div.sk-parallel-item:only-child::after {width: 0;}#sk-container-id-1 div.sk-dashed-wrapped {border: 1px dashed gray;margin: 0 0.4em 0.5em 0.4em;box-sizing: border-box;padding-bottom: 0.4em;background-color: white;}#sk-container-id-1 div.sk-label label {font-family: monospace;font-weight: bold;display: inline-block;line-height: 1.2em;}#sk-container-id-1 div.sk-label-container {text-align: center;}#sk-container-id-1 div.sk-container {/* jupyter's `normalize.less` sets `[hidden] { display: none; }` but bootstrap.min.css set `[hidden] { display: none !important; }` so we also need the `!important` here to be able to override the default hidden behavior on the sphinx rendered scikit-learn.org. See: https://github.com/scikit-learn/scikit-learn/issues/21755 */display: inline-block !important;position: relative;}#sk-container-id-1 div.sk-text-repr-fallback {display: none;}</style><div id=\"sk-container-id-1\" class=\"sk-top-container\"><div class=\"sk-text-repr-fallback\"><pre>SimpleImputer(strategy=&#x27;median&#x27;)</pre><b>In a Jupyter environment, please rerun this cell to show the HTML representation or trust the notebook. <br />On GitHub, the HTML representation is unable to render, please try loading this page with nbviewer.org.</b></div><div class=\"sk-container\" hidden><div class=\"sk-item\"><div class=\"sk-estimator sk-toggleable\"><input class=\"sk-toggleable__control sk-hidden--visually\" id=\"sk-estimator-id-1\" type=\"checkbox\" checked><label for=\"sk-estimator-id-1\" class=\"sk-toggleable__label sk-toggleable__label-arrow\">SimpleImputer</label><div class=\"sk-toggleable__content\"><pre>SimpleImputer(strategy=&#x27;median&#x27;)</pre></div></div></div></div></div>"
      ],
      "text/plain": [
       "SimpleImputer(strategy='median')"
      ]
     },
     "execution_count": 3,
     "metadata": {},
     "output_type": "execute_result"
    }
   ],
   "source": [
    "# Initiliaze and fit a simple imputer to the dataset using \n",
    "# the median of each feature\n",
    "imputer = SimpleImputer(strategy='median')\n",
    "imputer.fit(rent)"
   ]
  },
  {
   "cell_type": "code",
   "execution_count": 4,
   "id": "a084ed90-5667-4486-8c25-0155dcc0b222",
   "metadata": {
    "execution": {
     "iopub.execute_input": "2023-12-14T17:08:25.615825Z",
     "iopub.status.busy": "2023-12-14T17:08:25.615737Z",
     "iopub.status.idle": "2023-12-14T17:08:25.618014Z",
     "shell.execute_reply": "2023-12-14T17:08:25.617752Z"
    }
   },
   "outputs": [
    {
     "data": {
      "text/plain": [
       "array([   2.,    2., 1000., 1800.])"
      ]
     },
     "execution_count": 4,
     "metadata": {},
     "output_type": "execute_result"
    }
   ],
   "source": [
    "# Display the median of each feature\n",
    "imputer.statistics_"
   ]
  },
  {
   "cell_type": "code",
   "execution_count": 5,
   "id": "152c585d",
   "metadata": {
    "execution": {
     "iopub.execute_input": "2023-12-14T17:08:25.619599Z",
     "iopub.status.busy": "2023-12-14T17:08:25.619484Z",
     "iopub.status.idle": "2023-12-14T17:08:25.632824Z",
     "shell.execute_reply": "2023-12-14T17:08:25.632572Z"
    }
   },
   "outputs": [
    {
     "data": {
      "text/html": [
       "<div>\n",
       "<style scoped>\n",
       "    .dataframe tbody tr th:only-of-type {\n",
       "        vertical-align: middle;\n",
       "    }\n",
       "\n",
       "    .dataframe tbody tr th {\n",
       "        vertical-align: top;\n",
       "    }\n",
       "\n",
       "    .dataframe thead th {\n",
       "        text-align: right;\n",
       "    }\n",
       "</style>\n",
       "<table border=\"1\" class=\"dataframe\">\n",
       "  <thead>\n",
       "    <tr style=\"text-align: right;\">\n",
       "      <th></th>\n",
       "      <th>beds</th>\n",
       "      <th>baths</th>\n",
       "      <th>sqft</th>\n",
       "      <th>price</th>\n",
       "    </tr>\n",
       "  </thead>\n",
       "  <tbody>\n",
       "    <tr>\n",
       "      <th>0</th>\n",
       "      <td>2.0</td>\n",
       "      <td>2.0</td>\n",
       "      <td>1000.0</td>\n",
       "      <td>1250.0</td>\n",
       "    </tr>\n",
       "    <tr>\n",
       "      <th>1</th>\n",
       "      <td>2.0</td>\n",
       "      <td>2.0</td>\n",
       "      <td>1000.0</td>\n",
       "      <td>1295.0</td>\n",
       "    </tr>\n",
       "    <tr>\n",
       "      <th>2</th>\n",
       "      <td>2.0</td>\n",
       "      <td>2.0</td>\n",
       "      <td>1000.0</td>\n",
       "      <td>1100.0</td>\n",
       "    </tr>\n",
       "    <tr>\n",
       "      <th>3</th>\n",
       "      <td>1.0</td>\n",
       "      <td>2.0</td>\n",
       "      <td>735.0</td>\n",
       "      <td>1425.0</td>\n",
       "    </tr>\n",
       "    <tr>\n",
       "      <th>4</th>\n",
       "      <td>1.0</td>\n",
       "      <td>2.0</td>\n",
       "      <td>1000.0</td>\n",
       "      <td>890.0</td>\n",
       "    </tr>\n",
       "    <tr>\n",
       "      <th>...</th>\n",
       "      <td>...</td>\n",
       "      <td>...</td>\n",
       "      <td>...</td>\n",
       "      <td>...</td>\n",
       "    </tr>\n",
       "    <tr>\n",
       "      <th>200791</th>\n",
       "      <td>2.0</td>\n",
       "      <td>2.0</td>\n",
       "      <td>1000.0</td>\n",
       "      <td>1850.0</td>\n",
       "    </tr>\n",
       "    <tr>\n",
       "      <th>200792</th>\n",
       "      <td>2.0</td>\n",
       "      <td>2.0</td>\n",
       "      <td>1000.0</td>\n",
       "      <td>1950.0</td>\n",
       "    </tr>\n",
       "    <tr>\n",
       "      <th>200793</th>\n",
       "      <td>2.0</td>\n",
       "      <td>2.0</td>\n",
       "      <td>1300.0</td>\n",
       "      <td>2600.0</td>\n",
       "    </tr>\n",
       "    <tr>\n",
       "      <th>200794</th>\n",
       "      <td>2.0</td>\n",
       "      <td>2.0</td>\n",
       "      <td>1000.0</td>\n",
       "      <td>1900.0</td>\n",
       "    </tr>\n",
       "    <tr>\n",
       "      <th>200795</th>\n",
       "      <td>2.0</td>\n",
       "      <td>2.0</td>\n",
       "      <td>1000.0</td>\n",
       "      <td>1650.0</td>\n",
       "    </tr>\n",
       "  </tbody>\n",
       "</table>\n",
       "<p>200796 rows × 4 columns</p>\n",
       "</div>"
      ],
      "text/plain": [
       "        beds  baths    sqft   price\n",
       "0        2.0    2.0  1000.0  1250.0\n",
       "1        2.0    2.0  1000.0  1295.0\n",
       "2        2.0    2.0  1000.0  1100.0\n",
       "3        1.0    2.0   735.0  1425.0\n",
       "4        1.0    2.0  1000.0   890.0\n",
       "...      ...    ...     ...     ...\n",
       "200791   2.0    2.0  1000.0  1850.0\n",
       "200792   2.0    2.0  1000.0  1950.0\n",
       "200793   2.0    2.0  1300.0  2600.0\n",
       "200794   2.0    2.0  1000.0  1900.0\n",
       "200795   2.0    2.0  1000.0  1650.0\n",
       "\n",
       "[200796 rows x 4 columns]"
      ]
     },
     "execution_count": 5,
     "metadata": {},
     "output_type": "execute_result"
    }
   ],
   "source": [
    "# Fill the missing value for each column\n",
    "pd.DataFrame(imputer.transform(rent),columns=['beds','baths','sqft','price'])"
   ]
  },
  {
   "cell_type": "code",
   "execution_count": 6,
   "id": "26d80d7d",
   "metadata": {
    "execution": {
     "iopub.execute_input": "2023-12-14T17:08:25.634339Z",
     "iopub.status.busy": "2023-12-14T17:08:25.634254Z",
     "iopub.status.idle": "2023-12-14T17:08:25.640842Z",
     "shell.execute_reply": "2023-12-14T17:08:25.640591Z"
    }
   },
   "outputs": [],
   "source": [
    "# Selects a sample of the rent dataset and scales\n",
    "# the values using MinMaxScaler()\n",
    "scaler = MinMaxScaler()\n",
    "rent_sample = rent.sample(n=2000)\n",
    "scaler.fit(rent_sample)\n",
    "rent_scaled = scaler.transform(rent_sample)"
   ]
  },
  {
   "cell_type": "code",
   "execution_count": 7,
   "id": "950e3d22",
   "metadata": {
    "execution": {
     "iopub.execute_input": "2023-12-14T17:08:25.642345Z",
     "iopub.status.busy": "2023-12-14T17:08:25.642258Z",
     "iopub.status.idle": "2023-12-14T17:08:25.643920Z",
     "shell.execute_reply": "2023-12-14T17:08:25.643681Z"
    }
   },
   "outputs": [],
   "source": [
    "# Initializes a KNN imputer with 8 neighbors\n",
    "knn_imputer = KNNImputer(n_neighbors=8)"
   ]
  },
  {
   "cell_type": "code",
   "execution_count": 8,
   "id": "600d59eb-4e67-4a83-956a-2491005861a0",
   "metadata": {
    "execution": {
     "iopub.execute_input": "2023-12-14T17:08:25.645314Z",
     "iopub.status.busy": "2023-12-14T17:08:25.645238Z",
     "iopub.status.idle": "2023-12-14T17:08:25.889204Z",
     "shell.execute_reply": "2023-12-14T17:08:25.878637Z"
    }
   },
   "outputs": [
    {
     "data": {
      "text/html": [
       "<div>\n",
       "<style scoped>\n",
       "    .dataframe tbody tr th:only-of-type {\n",
       "        vertical-align: middle;\n",
       "    }\n",
       "\n",
       "    .dataframe tbody tr th {\n",
       "        vertical-align: top;\n",
       "    }\n",
       "\n",
       "    .dataframe thead th {\n",
       "        text-align: right;\n",
       "    }\n",
       "</style>\n",
       "<table border=\"1\" class=\"dataframe\">\n",
       "  <thead>\n",
       "    <tr style=\"text-align: right;\">\n",
       "      <th></th>\n",
       "      <th>scaled_beds</th>\n",
       "      <th>scaled_baths</th>\n",
       "      <th>scaled_sqft</th>\n",
       "      <th>scaled_price</th>\n",
       "    </tr>\n",
       "  </thead>\n",
       "  <tbody>\n",
       "    <tr>\n",
       "      <th>0</th>\n",
       "      <td>0.229167</td>\n",
       "      <td>0.000000</td>\n",
       "      <td>0.069717</td>\n",
       "      <td>0.026263</td>\n",
       "    </tr>\n",
       "    <tr>\n",
       "      <th>1</th>\n",
       "      <td>0.333333</td>\n",
       "      <td>0.156250</td>\n",
       "      <td>0.156761</td>\n",
       "      <td>0.091475</td>\n",
       "    </tr>\n",
       "    <tr>\n",
       "      <th>2</th>\n",
       "      <td>0.166667</td>\n",
       "      <td>0.000000</td>\n",
       "      <td>0.103502</td>\n",
       "      <td>0.060606</td>\n",
       "    </tr>\n",
       "    <tr>\n",
       "      <th>3</th>\n",
       "      <td>0.333333</td>\n",
       "      <td>0.156250</td>\n",
       "      <td>0.141356</td>\n",
       "      <td>0.063232</td>\n",
       "    </tr>\n",
       "    <tr>\n",
       "      <th>4</th>\n",
       "      <td>0.833333</td>\n",
       "      <td>0.609375</td>\n",
       "      <td>0.743482</td>\n",
       "      <td>0.191919</td>\n",
       "    </tr>\n",
       "    <tr>\n",
       "      <th>...</th>\n",
       "      <td>...</td>\n",
       "      <td>...</td>\n",
       "      <td>...</td>\n",
       "      <td>...</td>\n",
       "    </tr>\n",
       "    <tr>\n",
       "      <th>1995</th>\n",
       "      <td>0.166667</td>\n",
       "      <td>0.015625</td>\n",
       "      <td>0.091174</td>\n",
       "      <td>0.064646</td>\n",
       "    </tr>\n",
       "    <tr>\n",
       "      <th>1996</th>\n",
       "      <td>0.458333</td>\n",
       "      <td>0.000000</td>\n",
       "      <td>0.190283</td>\n",
       "      <td>0.090909</td>\n",
       "    </tr>\n",
       "    <tr>\n",
       "      <th>1997</th>\n",
       "      <td>0.333333</td>\n",
       "      <td>0.078125</td>\n",
       "      <td>0.136296</td>\n",
       "      <td>0.041414</td>\n",
       "    </tr>\n",
       "    <tr>\n",
       "      <th>1998</th>\n",
       "      <td>0.166667</td>\n",
       "      <td>0.000000</td>\n",
       "      <td>0.080810</td>\n",
       "      <td>0.052525</td>\n",
       "    </tr>\n",
       "    <tr>\n",
       "      <th>1999</th>\n",
       "      <td>0.166667</td>\n",
       "      <td>0.000000</td>\n",
       "      <td>0.096356</td>\n",
       "      <td>0.052485</td>\n",
       "    </tr>\n",
       "  </tbody>\n",
       "</table>\n",
       "<p>2000 rows × 4 columns</p>\n",
       "</div>"
      ],
      "text/plain": [
       "      scaled_beds  scaled_baths  scaled_sqft  scaled_price\n",
       "0        0.229167      0.000000     0.069717      0.026263\n",
       "1        0.333333      0.156250     0.156761      0.091475\n",
       "2        0.166667      0.000000     0.103502      0.060606\n",
       "3        0.333333      0.156250     0.141356      0.063232\n",
       "4        0.833333      0.609375     0.743482      0.191919\n",
       "...           ...           ...          ...           ...\n",
       "1995     0.166667      0.015625     0.091174      0.064646\n",
       "1996     0.458333      0.000000     0.190283      0.090909\n",
       "1997     0.333333      0.078125     0.136296      0.041414\n",
       "1998     0.166667      0.000000     0.080810      0.052525\n",
       "1999     0.166667      0.000000     0.096356      0.052485\n",
       "\n",
       "[2000 rows x 4 columns]"
      ]
     },
     "execution_count": 8,
     "metadata": {},
     "output_type": "execute_result"
    }
   ],
   "source": [
    "# Fill the missing value for each feature\n",
    "pd.DataFrame(knn_imputer.fit_transform(rent_scaled),\n",
    "             columns=['scaled_beds','scaled_baths','scaled_sqft','scaled_price'])"
   ]
  },
  {
   "cell_type": "code",
   "execution_count": 9,
   "id": "db92a94e-874e-46d7-8117-6b96b08dc833",
   "metadata": {
    "execution": {
     "iopub.execute_input": "2023-12-14T17:08:25.902048Z",
     "iopub.status.busy": "2023-12-14T17:08:25.900266Z",
     "iopub.status.idle": "2023-12-14T17:08:26.201663Z",
     "shell.execute_reply": "2023-12-14T17:08:26.185853Z"
    }
   },
   "outputs": [
    {
     "data": {
      "text/html": [
       "<style>#sk-container-id-2 {color: black;background-color: white;}#sk-container-id-2 pre{padding: 0;}#sk-container-id-2 div.sk-toggleable {background-color: white;}#sk-container-id-2 label.sk-toggleable__label {cursor: pointer;display: block;width: 100%;margin-bottom: 0;padding: 0.3em;box-sizing: border-box;text-align: center;}#sk-container-id-2 label.sk-toggleable__label-arrow:before {content: \"▸\";float: left;margin-right: 0.25em;color: #696969;}#sk-container-id-2 label.sk-toggleable__label-arrow:hover:before {color: black;}#sk-container-id-2 div.sk-estimator:hover label.sk-toggleable__label-arrow:before {color: black;}#sk-container-id-2 div.sk-toggleable__content {max-height: 0;max-width: 0;overflow: hidden;text-align: left;background-color: #f0f8ff;}#sk-container-id-2 div.sk-toggleable__content pre {margin: 0.2em;color: black;border-radius: 0.25em;background-color: #f0f8ff;}#sk-container-id-2 input.sk-toggleable__control:checked~div.sk-toggleable__content {max-height: 200px;max-width: 100%;overflow: auto;}#sk-container-id-2 input.sk-toggleable__control:checked~label.sk-toggleable__label-arrow:before {content: \"▾\";}#sk-container-id-2 div.sk-estimator input.sk-toggleable__control:checked~label.sk-toggleable__label {background-color: #d4ebff;}#sk-container-id-2 div.sk-label input.sk-toggleable__control:checked~label.sk-toggleable__label {background-color: #d4ebff;}#sk-container-id-2 input.sk-hidden--visually {border: 0;clip: rect(1px 1px 1px 1px);clip: rect(1px, 1px, 1px, 1px);height: 1px;margin: -1px;overflow: hidden;padding: 0;position: absolute;width: 1px;}#sk-container-id-2 div.sk-estimator {font-family: monospace;background-color: #f0f8ff;border: 1px dotted black;border-radius: 0.25em;box-sizing: border-box;margin-bottom: 0.5em;}#sk-container-id-2 div.sk-estimator:hover {background-color: #d4ebff;}#sk-container-id-2 div.sk-parallel-item::after {content: \"\";width: 100%;border-bottom: 1px solid gray;flex-grow: 1;}#sk-container-id-2 div.sk-label:hover label.sk-toggleable__label {background-color: #d4ebff;}#sk-container-id-2 div.sk-serial::before {content: \"\";position: absolute;border-left: 1px solid gray;box-sizing: border-box;top: 0;bottom: 0;left: 50%;z-index: 0;}#sk-container-id-2 div.sk-serial {display: flex;flex-direction: column;align-items: center;background-color: white;padding-right: 0.2em;padding-left: 0.2em;position: relative;}#sk-container-id-2 div.sk-item {position: relative;z-index: 1;}#sk-container-id-2 div.sk-parallel {display: flex;align-items: stretch;justify-content: center;background-color: white;position: relative;}#sk-container-id-2 div.sk-item::before, #sk-container-id-2 div.sk-parallel-item::before {content: \"\";position: absolute;border-left: 1px solid gray;box-sizing: border-box;top: 0;bottom: 0;left: 50%;z-index: -1;}#sk-container-id-2 div.sk-parallel-item {display: flex;flex-direction: column;z-index: 1;position: relative;background-color: white;}#sk-container-id-2 div.sk-parallel-item:first-child::after {align-self: flex-end;width: 50%;}#sk-container-id-2 div.sk-parallel-item:last-child::after {align-self: flex-start;width: 50%;}#sk-container-id-2 div.sk-parallel-item:only-child::after {width: 0;}#sk-container-id-2 div.sk-dashed-wrapped {border: 1px dashed gray;margin: 0 0.4em 0.5em 0.4em;box-sizing: border-box;padding-bottom: 0.4em;background-color: white;}#sk-container-id-2 div.sk-label label {font-family: monospace;font-weight: bold;display: inline-block;line-height: 1.2em;}#sk-container-id-2 div.sk-label-container {text-align: center;}#sk-container-id-2 div.sk-container {/* jupyter's `normalize.less` sets `[hidden] { display: none; }` but bootstrap.min.css set `[hidden] { display: none !important; }` so we also need the `!important` here to be able to override the default hidden behavior on the sphinx rendered scikit-learn.org. See: https://github.com/scikit-learn/scikit-learn/issues/21755 */display: inline-block !important;position: relative;}#sk-container-id-2 div.sk-text-repr-fallback {display: none;}</style><div id=\"sk-container-id-2\" class=\"sk-top-container\"><div class=\"sk-text-repr-fallback\"><pre>IterativeImputer()</pre><b>In a Jupyter environment, please rerun this cell to show the HTML representation or trust the notebook. <br />On GitHub, the HTML representation is unable to render, please try loading this page with nbviewer.org.</b></div><div class=\"sk-container\" hidden><div class=\"sk-item\"><div class=\"sk-estimator sk-toggleable\"><input class=\"sk-toggleable__control sk-hidden--visually\" id=\"sk-estimator-id-2\" type=\"checkbox\" checked><label for=\"sk-estimator-id-2\" class=\"sk-toggleable__label sk-toggleable__label-arrow\">IterativeImputer</label><div class=\"sk-toggleable__content\"><pre>IterativeImputer()</pre></div></div></div></div></div>"
      ],
      "text/plain": [
       "IterativeImputer()"
      ]
     },
     "execution_count": 9,
     "metadata": {},
     "output_type": "execute_result"
    }
   ],
   "source": [
    "# Initialize and fit an interative imputer to the \n",
    "# rent dataset\n",
    "iter_imputer = IterativeImputer()\n",
    "iter_imputer.fit(rent_features)"
   ]
  },
  {
   "cell_type": "code",
   "execution_count": 10,
   "id": "0fe9fd7e-c095-4027-97f5-a7ee2668c898",
   "metadata": {
    "execution": {
     "iopub.execute_input": "2023-12-14T17:08:26.228365Z",
     "iopub.status.busy": "2023-12-14T17:08:26.227332Z",
     "iopub.status.idle": "2023-12-14T17:08:26.286467Z",
     "shell.execute_reply": "2023-12-14T17:08:26.275230Z"
    }
   },
   "outputs": [
    {
     "data": {
      "text/plain": [
       "3"
      ]
     },
     "execution_count": 10,
     "metadata": {},
     "output_type": "execute_result"
    }
   ],
   "source": [
    "# Display the number of iteration rounds that occurred\n",
    "iter_imputer.n_iter_"
   ]
  },
  {
   "cell_type": "code",
   "execution_count": 11,
   "id": "e8650eba-44b2-40a9-a2e1-4e564a720c22",
   "metadata": {
    "execution": {
     "iopub.execute_input": "2023-12-14T17:08:26.320989Z",
     "iopub.status.busy": "2023-12-14T17:08:26.320518Z",
     "iopub.status.idle": "2023-12-14T17:08:26.437471Z",
     "shell.execute_reply": "2023-12-14T17:08:26.437220Z"
    }
   },
   "outputs": [
    {
     "data": {
      "text/html": [
       "<div>\n",
       "<style scoped>\n",
       "    .dataframe tbody tr th:only-of-type {\n",
       "        vertical-align: middle;\n",
       "    }\n",
       "\n",
       "    .dataframe tbody tr th {\n",
       "        vertical-align: top;\n",
       "    }\n",
       "\n",
       "    .dataframe thead th {\n",
       "        text-align: right;\n",
       "    }\n",
       "</style>\n",
       "<table border=\"1\" class=\"dataframe\">\n",
       "  <thead>\n",
       "    <tr style=\"text-align: right;\">\n",
       "      <th></th>\n",
       "      <th>beds</th>\n",
       "      <th>baths</th>\n",
       "      <th>sqft</th>\n",
       "    </tr>\n",
       "  </thead>\n",
       "  <tbody>\n",
       "    <tr>\n",
       "      <th>0</th>\n",
       "      <td>2.0</td>\n",
       "      <td>2.000000</td>\n",
       "      <td>582.607411</td>\n",
       "    </tr>\n",
       "    <tr>\n",
       "      <th>1</th>\n",
       "      <td>2.0</td>\n",
       "      <td>1.565187</td>\n",
       "      <td>1146.830456</td>\n",
       "    </tr>\n",
       "    <tr>\n",
       "      <th>2</th>\n",
       "      <td>2.0</td>\n",
       "      <td>1.565187</td>\n",
       "      <td>1146.830456</td>\n",
       "    </tr>\n",
       "    <tr>\n",
       "      <th>3</th>\n",
       "      <td>1.0</td>\n",
       "      <td>0.962895</td>\n",
       "      <td>735.000000</td>\n",
       "    </tr>\n",
       "    <tr>\n",
       "      <th>4</th>\n",
       "      <td>1.0</td>\n",
       "      <td>1.249608</td>\n",
       "      <td>130.085504</td>\n",
       "    </tr>\n",
       "    <tr>\n",
       "      <th>...</th>\n",
       "      <td>...</td>\n",
       "      <td>...</td>\n",
       "      <td>...</td>\n",
       "    </tr>\n",
       "    <tr>\n",
       "      <th>200791</th>\n",
       "      <td>2.0</td>\n",
       "      <td>1.565187</td>\n",
       "      <td>1146.830456</td>\n",
       "    </tr>\n",
       "    <tr>\n",
       "      <th>200792</th>\n",
       "      <td>2.0</td>\n",
       "      <td>1.565187</td>\n",
       "      <td>1146.830456</td>\n",
       "    </tr>\n",
       "    <tr>\n",
       "      <th>200793</th>\n",
       "      <td>2.0</td>\n",
       "      <td>2.000000</td>\n",
       "      <td>1300.000000</td>\n",
       "    </tr>\n",
       "    <tr>\n",
       "      <th>200794</th>\n",
       "      <td>2.0</td>\n",
       "      <td>1.634781</td>\n",
       "      <td>1000.000000</td>\n",
       "    </tr>\n",
       "    <tr>\n",
       "      <th>200795</th>\n",
       "      <td>2.0</td>\n",
       "      <td>1.565187</td>\n",
       "      <td>1146.830456</td>\n",
       "    </tr>\n",
       "  </tbody>\n",
       "</table>\n",
       "<p>200796 rows × 3 columns</p>\n",
       "</div>"
      ],
      "text/plain": [
       "        beds     baths         sqft\n",
       "0        2.0  2.000000   582.607411\n",
       "1        2.0  1.565187  1146.830456\n",
       "2        2.0  1.565187  1146.830456\n",
       "3        1.0  0.962895   735.000000\n",
       "4        1.0  1.249608   130.085504\n",
       "...      ...       ...          ...\n",
       "200791   2.0  1.565187  1146.830456\n",
       "200792   2.0  1.565187  1146.830456\n",
       "200793   2.0  2.000000  1300.000000\n",
       "200794   2.0  1.634781  1000.000000\n",
       "200795   2.0  1.565187  1146.830456\n",
       "\n",
       "[200796 rows x 3 columns]"
      ]
     },
     "execution_count": 11,
     "metadata": {},
     "output_type": "execute_result"
    }
   ],
   "source": [
    "# Fill in the missing values for each feature\n",
    "pd.DataFrame(iter_imputer.transform(rent_features), columns=['beds','baths','sqft'])"
   ]
  }
 ],
 "metadata": {
  "kernelspec": {
   "display_name": "Python 3 - python3",
   "language": "python3",
   "name": "python3"
  },
  "language_info": {
   "codemirror_mode": {
    "name": "ipython",
    "version": 3
   },
   "file_extension": ".py",
   "mimetype": "text/x-python",
   "name": "python",
   "nbconvert_exporter": "python",
   "pygments_lexer": "ipython3",
   "version": "3.10.9"
  }
 },
 "nbformat": 4,
 "nbformat_minor": 5
}
