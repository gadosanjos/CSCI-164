{
 "cells": [
  {
   "cell_type": "markdown",
   "id": "3fa9f23d",
   "metadata": {},
   "source": [
    "Encoding categorical features in scikit-learn\n",
    "\n",
    "The preprocessing module of scikit-learn supports various ordinal, one-hot, and binary encoding methods using the OrdinalEncoder() and OneHotEncoder() functions respectively. A common parameter for OneHotEncode() is drop, which removes one of the binary features. This parameter is often set to 'first' but can also be set to an array that indicates specific features to be dropped. Each function needs to be initiated and then fitted to the data. Additional details can be found in the OrdinalEncoder() documentation and OneHotEncoder() documentation."
   ]
  },
  {
   "cell_type": "code",
   "execution_count": 1,
   "id": "588d6bfb-60bb-4b0a-bba3-4adf4661a8ca",
   "metadata": {
    "execution": {
     "iopub.execute_input": "2023-12-14T17:08:20.767220Z",
     "iopub.status.busy": "2023-12-14T17:08:20.766937Z",
     "iopub.status.idle": "2023-12-14T17:08:21.630301Z",
     "shell.execute_reply": "2023-12-14T17:08:21.630009Z"
    }
   },
   "outputs": [],
   "source": [
    "# Import all libraries\n",
    "from sklearn.preprocessing import OrdinalEncoder\n",
    "from sklearn.preprocessing import OneHotEncoder\n",
    "import seaborn as sns\n",
    "import pandas as pd\n",
    "import numpy as np"
   ]
  },
  {
   "cell_type": "code",
   "execution_count": 13,
   "id": "74a5539a-7c5f-4a29-8725-7c488ebd1cb3",
   "metadata": {
    "execution": {
     "iopub.execute_input": "2023-12-14T17:08:21.632067Z",
     "iopub.status.busy": "2023-12-14T17:08:21.631927Z",
     "iopub.status.idle": "2023-12-14T17:08:21.637086Z",
     "shell.execute_reply": "2023-12-14T17:08:21.636797Z"
    }
   },
   "outputs": [],
   "source": [
    "# Load the abalone.csv data\n",
    "abalone = pd.read_csv('abalone.csv')\n",
    "abalone_sex = abalone[['sex']]"
   ]
  },
  {
   "cell_type": "code",
   "execution_count": 14,
   "id": "90719f70-d72b-4e53-aa4f-f503186b35e1",
   "metadata": {
    "execution": {
     "iopub.execute_input": "2023-12-14T17:08:21.638692Z",
     "iopub.status.busy": "2023-12-14T17:08:21.638604Z",
     "iopub.status.idle": "2023-12-14T17:08:21.642032Z",
     "shell.execute_reply": "2023-12-14T17:08:21.641793Z"
    }
   },
   "outputs": [],
   "source": [
    "# Initialize the OrdinalEncoder() function and fit to the abalone_sex data\n",
    "ordinal_encoder = OrdinalEncoder()\n",
    "labels = pd.DataFrame(ordinal_encoder.fit_transform(abalone_sex[['sex']]),columns=['label'])\n",
    "abalone_sex = abalone_sex.join(labels)"
   ]
  },
  {
   "cell_type": "code",
   "execution_count": 15,
   "id": "9e217476-1da8-43d2-9da6-30d4d020abf6",
   "metadata": {
    "execution": {
     "iopub.execute_input": "2023-12-14T17:08:21.643471Z",
     "iopub.status.busy": "2023-12-14T17:08:21.643384Z",
     "iopub.status.idle": "2023-12-14T17:08:21.648340Z",
     "shell.execute_reply": "2023-12-14T17:08:21.648090Z"
    }
   },
   "outputs": [
    {
     "data": {
      "text/html": [
       "<div>\n",
       "<style scoped>\n",
       "    .dataframe tbody tr th:only-of-type {\n",
       "        vertical-align: middle;\n",
       "    }\n",
       "\n",
       "    .dataframe tbody tr th {\n",
       "        vertical-align: top;\n",
       "    }\n",
       "\n",
       "    .dataframe thead th {\n",
       "        text-align: right;\n",
       "    }\n",
       "</style>\n",
       "<table border=\"1\" class=\"dataframe\">\n",
       "  <thead>\n",
       "    <tr style=\"text-align: right;\">\n",
       "      <th></th>\n",
       "      <th>sex</th>\n",
       "      <th>label</th>\n",
       "    </tr>\n",
       "  </thead>\n",
       "  <tbody>\n",
       "    <tr>\n",
       "      <th>0</th>\n",
       "      <td>M</td>\n",
       "      <td>2.0</td>\n",
       "    </tr>\n",
       "    <tr>\n",
       "      <th>1</th>\n",
       "      <td>M</td>\n",
       "      <td>2.0</td>\n",
       "    </tr>\n",
       "    <tr>\n",
       "      <th>2</th>\n",
       "      <td>F</td>\n",
       "      <td>0.0</td>\n",
       "    </tr>\n",
       "    <tr>\n",
       "      <th>3</th>\n",
       "      <td>M</td>\n",
       "      <td>2.0</td>\n",
       "    </tr>\n",
       "    <tr>\n",
       "      <th>4</th>\n",
       "      <td>I</td>\n",
       "      <td>1.0</td>\n",
       "    </tr>\n",
       "    <tr>\n",
       "      <th>...</th>\n",
       "      <td>...</td>\n",
       "      <td>...</td>\n",
       "    </tr>\n",
       "    <tr>\n",
       "      <th>4172</th>\n",
       "      <td>F</td>\n",
       "      <td>0.0</td>\n",
       "    </tr>\n",
       "    <tr>\n",
       "      <th>4173</th>\n",
       "      <td>M</td>\n",
       "      <td>2.0</td>\n",
       "    </tr>\n",
       "    <tr>\n",
       "      <th>4174</th>\n",
       "      <td>M</td>\n",
       "      <td>2.0</td>\n",
       "    </tr>\n",
       "    <tr>\n",
       "      <th>4175</th>\n",
       "      <td>F</td>\n",
       "      <td>0.0</td>\n",
       "    </tr>\n",
       "    <tr>\n",
       "      <th>4176</th>\n",
       "      <td>M</td>\n",
       "      <td>2.0</td>\n",
       "    </tr>\n",
       "  </tbody>\n",
       "</table>\n",
       "<p>4177 rows × 2 columns</p>\n",
       "</div>"
      ],
      "text/plain": [
       "     sex  label\n",
       "0      M    2.0\n",
       "1      M    2.0\n",
       "2      F    0.0\n",
       "3      M    2.0\n",
       "4      I    1.0\n",
       "...   ..    ...\n",
       "4172   F    0.0\n",
       "4173   M    2.0\n",
       "4174   M    2.0\n",
       "4175   F    0.0\n",
       "4176   M    2.0\n",
       "\n",
       "[4177 rows x 2 columns]"
      ]
     },
     "execution_count": 15,
     "metadata": {},
     "output_type": "execute_result"
    }
   ],
   "source": [
    "abalone_sex"
   ]
  },
  {
   "cell_type": "code",
   "execution_count": 5,
   "id": "7dd0e5b6-f82e-4b36-b429-ede0d6426ddd",
   "metadata": {
    "execution": {
     "iopub.execute_input": "2023-12-14T17:08:21.649744Z",
     "iopub.status.busy": "2023-12-14T17:08:21.649664Z",
     "iopub.status.idle": "2023-12-14T17:08:21.651402Z",
     "shell.execute_reply": "2023-12-14T17:08:21.651177Z"
    }
   },
   "outputs": [],
   "source": [
    "data = np.asarray([['M'], ['F'], ['I']])"
   ]
  },
  {
   "cell_type": "code",
   "execution_count": 6,
   "id": "402be2ca-4578-41d8-ae4e-06b9549fabd4",
   "metadata": {
    "execution": {
     "iopub.execute_input": "2023-12-14T17:08:21.652697Z",
     "iopub.status.busy": "2023-12-14T17:08:21.652620Z",
     "iopub.status.idle": "2023-12-14T17:08:21.654387Z",
     "shell.execute_reply": "2023-12-14T17:08:21.654165Z"
    }
   },
   "outputs": [],
   "source": [
    "result = ordinal_encoder.fit_transform(data)"
   ]
  },
  {
   "cell_type": "code",
   "execution_count": 7,
   "id": "39a35c48-03fc-4616-a6f4-b0ef654deff3",
   "metadata": {
    "execution": {
     "iopub.execute_input": "2023-12-14T17:08:21.655736Z",
     "iopub.status.busy": "2023-12-14T17:08:21.655649Z",
     "iopub.status.idle": "2023-12-14T17:08:21.657653Z",
     "shell.execute_reply": "2023-12-14T17:08:21.657429Z"
    }
   },
   "outputs": [
    {
     "data": {
      "text/plain": [
       "array([['M'],\n",
       "       ['F'],\n",
       "       ['I']], dtype='<U1')"
      ]
     },
     "execution_count": 7,
     "metadata": {},
     "output_type": "execute_result"
    }
   ],
   "source": [
    "data"
   ]
  },
  {
   "cell_type": "code",
   "execution_count": 8,
   "id": "c8ac88b4-f7bc-4f22-b19a-ce30c61b0215",
   "metadata": {
    "execution": {
     "iopub.execute_input": "2023-12-14T17:08:21.658998Z",
     "iopub.status.busy": "2023-12-14T17:08:21.658923Z",
     "iopub.status.idle": "2023-12-14T17:08:21.661013Z",
     "shell.execute_reply": "2023-12-14T17:08:21.660787Z"
    }
   },
   "outputs": [
    {
     "data": {
      "text/plain": [
       "array([[2.],\n",
       "       [0.],\n",
       "       [1.]])"
      ]
     },
     "execution_count": 8,
     "metadata": {},
     "output_type": "execute_result"
    }
   ],
   "source": [
    "result"
   ]
  },
  {
   "cell_type": "code",
   "execution_count": 9,
   "id": "e13d4503-34fc-4c3d-bd63-10ed94b7535d",
   "metadata": {
    "execution": {
     "iopub.execute_input": "2023-12-14T17:08:21.662451Z",
     "iopub.status.busy": "2023-12-14T17:08:21.662376Z",
     "iopub.status.idle": "2023-12-14T17:08:21.669247Z",
     "shell.execute_reply": "2023-12-14T17:08:21.668975Z"
    }
   },
   "outputs": [
    {
     "name": "stderr",
     "output_type": "stream",
     "text": [
      "/nix/store/msas3yllgpa9cv1srn6gxry7ygra9hwm-python3-3.10.9-env/lib/python3.10/site-packages/sklearn/preprocessing/_encoders.py:828: FutureWarning: `sparse` was renamed to `sparse_output` in version 1.2 and will be removed in 1.4. `sparse_output` is ignored unless you leave `sparse` to its default value.\n",
      "  warnings.warn(\n"
     ]
    },
    {
     "data": {
      "text/html": [
       "<div>\n",
       "<style scoped>\n",
       "    .dataframe tbody tr th:only-of-type {\n",
       "        vertical-align: middle;\n",
       "    }\n",
       "\n",
       "    .dataframe tbody tr th {\n",
       "        vertical-align: top;\n",
       "    }\n",
       "\n",
       "    .dataframe thead th {\n",
       "        text-align: right;\n",
       "    }\n",
       "</style>\n",
       "<table border=\"1\" class=\"dataframe\">\n",
       "  <thead>\n",
       "    <tr style=\"text-align: right;\">\n",
       "      <th></th>\n",
       "      <th>sex</th>\n",
       "      <th>label</th>\n",
       "      <th>F</th>\n",
       "      <th>I</th>\n",
       "      <th>M</th>\n",
       "    </tr>\n",
       "  </thead>\n",
       "  <tbody>\n",
       "    <tr>\n",
       "      <th>0</th>\n",
       "      <td>M</td>\n",
       "      <td>2.0</td>\n",
       "      <td>0.0</td>\n",
       "      <td>0.0</td>\n",
       "      <td>1.0</td>\n",
       "    </tr>\n",
       "    <tr>\n",
       "      <th>1</th>\n",
       "      <td>M</td>\n",
       "      <td>2.0</td>\n",
       "      <td>0.0</td>\n",
       "      <td>0.0</td>\n",
       "      <td>1.0</td>\n",
       "    </tr>\n",
       "    <tr>\n",
       "      <th>2</th>\n",
       "      <td>F</td>\n",
       "      <td>0.0</td>\n",
       "      <td>1.0</td>\n",
       "      <td>0.0</td>\n",
       "      <td>0.0</td>\n",
       "    </tr>\n",
       "    <tr>\n",
       "      <th>3</th>\n",
       "      <td>M</td>\n",
       "      <td>2.0</td>\n",
       "      <td>0.0</td>\n",
       "      <td>0.0</td>\n",
       "      <td>1.0</td>\n",
       "    </tr>\n",
       "    <tr>\n",
       "      <th>4</th>\n",
       "      <td>I</td>\n",
       "      <td>1.0</td>\n",
       "      <td>0.0</td>\n",
       "      <td>1.0</td>\n",
       "      <td>0.0</td>\n",
       "    </tr>\n",
       "    <tr>\n",
       "      <th>...</th>\n",
       "      <td>...</td>\n",
       "      <td>...</td>\n",
       "      <td>...</td>\n",
       "      <td>...</td>\n",
       "      <td>...</td>\n",
       "    </tr>\n",
       "    <tr>\n",
       "      <th>4172</th>\n",
       "      <td>F</td>\n",
       "      <td>0.0</td>\n",
       "      <td>1.0</td>\n",
       "      <td>0.0</td>\n",
       "      <td>0.0</td>\n",
       "    </tr>\n",
       "    <tr>\n",
       "      <th>4173</th>\n",
       "      <td>M</td>\n",
       "      <td>2.0</td>\n",
       "      <td>0.0</td>\n",
       "      <td>0.0</td>\n",
       "      <td>1.0</td>\n",
       "    </tr>\n",
       "    <tr>\n",
       "      <th>4174</th>\n",
       "      <td>M</td>\n",
       "      <td>2.0</td>\n",
       "      <td>0.0</td>\n",
       "      <td>0.0</td>\n",
       "      <td>1.0</td>\n",
       "    </tr>\n",
       "    <tr>\n",
       "      <th>4175</th>\n",
       "      <td>F</td>\n",
       "      <td>0.0</td>\n",
       "      <td>1.0</td>\n",
       "      <td>0.0</td>\n",
       "      <td>0.0</td>\n",
       "    </tr>\n",
       "    <tr>\n",
       "      <th>4176</th>\n",
       "      <td>M</td>\n",
       "      <td>2.0</td>\n",
       "      <td>0.0</td>\n",
       "      <td>0.0</td>\n",
       "      <td>1.0</td>\n",
       "    </tr>\n",
       "  </tbody>\n",
       "</table>\n",
       "<p>4177 rows × 5 columns</p>\n",
       "</div>"
      ],
      "text/plain": [
       "     sex  label    F    I    M\n",
       "0      M    2.0  0.0  0.0  1.0\n",
       "1      M    2.0  0.0  0.0  1.0\n",
       "2      F    0.0  1.0  0.0  0.0\n",
       "3      M    2.0  0.0  0.0  1.0\n",
       "4      I    1.0  0.0  1.0  0.0\n",
       "...   ..    ...  ...  ...  ...\n",
       "4172   F    0.0  1.0  0.0  0.0\n",
       "4173   M    2.0  0.0  0.0  1.0\n",
       "4174   M    2.0  0.0  0.0  1.0\n",
       "4175   F    0.0  1.0  0.0  0.0\n",
       "4176   M    2.0  0.0  0.0  1.0\n",
       "\n",
       "[4177 rows x 5 columns]"
      ]
     },
     "execution_count": 9,
     "metadata": {},
     "output_type": "execute_result"
    }
   ],
   "source": [
    "# Initialize the OneHotEncoder() function and fit to the abalone_sex data\n",
    "onehot_encoder = OneHotEncoder(sparse=False)\n",
    "onehot_labels = pd.DataFrame(onehot_encoder.fit_transform(abalone_sex[['sex']]),columns=['F','I','M'])\n",
    "abalone_sex = abalone_sex.join(onehot_labels)\n",
    "abalone_sex"
   ]
  },
  {
   "cell_type": "code",
   "execution_count": 10,
   "id": "6c79ad96-f938-4963-9961-b54259c66fdd",
   "metadata": {
    "execution": {
     "iopub.execute_input": "2023-12-14T17:08:21.670801Z",
     "iopub.status.busy": "2023-12-14T17:08:21.670700Z",
     "iopub.status.idle": "2023-12-14T17:08:21.672658Z",
     "shell.execute_reply": "2023-12-14T17:08:21.672416Z"
    }
   },
   "outputs": [
    {
     "data": {
      "text/plain": [
       "array([['M'],\n",
       "       ['F'],\n",
       "       ['I']], dtype='<U1')"
      ]
     },
     "execution_count": 10,
     "metadata": {},
     "output_type": "execute_result"
    }
   ],
   "source": [
    "data"
   ]
  },
  {
   "cell_type": "code",
   "execution_count": 11,
   "id": "c9e68369-cc8d-495b-a7df-c1c2937c2e9c",
   "metadata": {
    "execution": {
     "iopub.execute_input": "2023-12-14T17:08:21.674095Z",
     "iopub.status.busy": "2023-12-14T17:08:21.674003Z",
     "iopub.status.idle": "2023-12-14T17:08:21.676287Z",
     "shell.execute_reply": "2023-12-14T17:08:21.676039Z"
    }
   },
   "outputs": [
    {
     "name": "stderr",
     "output_type": "stream",
     "text": [
      "/nix/store/msas3yllgpa9cv1srn6gxry7ygra9hwm-python3-3.10.9-env/lib/python3.10/site-packages/sklearn/preprocessing/_encoders.py:828: FutureWarning: `sparse` was renamed to `sparse_output` in version 1.2 and will be removed in 1.4. `sparse_output` is ignored unless you leave `sparse` to its default value.\n",
      "  warnings.warn(\n"
     ]
    },
    {
     "data": {
      "text/plain": [
       "array([[0., 0., 1.],\n",
       "       [1., 0., 0.],\n",
       "       [0., 1., 0.]])"
      ]
     },
     "execution_count": 11,
     "metadata": {},
     "output_type": "execute_result"
    }
   ],
   "source": [
    "onehot_encoder.fit_transform(data)"
   ]
  },
  {
   "cell_type": "code",
   "execution_count": 12,
   "id": "eb6cb041-b226-4f58-b82d-e7e0f7b0eab1",
   "metadata": {
    "execution": {
     "iopub.execute_input": "2023-12-14T17:08:21.677677Z",
     "iopub.status.busy": "2023-12-14T17:08:21.677580Z",
     "iopub.status.idle": "2023-12-14T17:08:21.685439Z",
     "shell.execute_reply": "2023-12-14T17:08:21.685192Z"
    }
   },
   "outputs": [
    {
     "name": "stderr",
     "output_type": "stream",
     "text": [
      "/nix/store/msas3yllgpa9cv1srn6gxry7ygra9hwm-python3-3.10.9-env/lib/python3.10/site-packages/sklearn/preprocessing/_encoders.py:828: FutureWarning: `sparse` was renamed to `sparse_output` in version 1.2 and will be removed in 1.4. `sparse_output` is ignored unless you leave `sparse` to its default value.\n",
      "  warnings.warn(\n"
     ]
    },
    {
     "data": {
      "text/html": [
       "<div>\n",
       "<style scoped>\n",
       "    .dataframe tbody tr th:only-of-type {\n",
       "        vertical-align: middle;\n",
       "    }\n",
       "\n",
       "    .dataframe tbody tr th {\n",
       "        vertical-align: top;\n",
       "    }\n",
       "\n",
       "    .dataframe thead th {\n",
       "        text-align: right;\n",
       "    }\n",
       "</style>\n",
       "<table border=\"1\" class=\"dataframe\">\n",
       "  <thead>\n",
       "    <tr style=\"text-align: right;\">\n",
       "      <th></th>\n",
       "      <th>sex</th>\n",
       "      <th>label</th>\n",
       "      <th>F</th>\n",
       "      <th>I</th>\n",
       "      <th>M</th>\n",
       "      <th>D1</th>\n",
       "      <th>D2</th>\n",
       "    </tr>\n",
       "  </thead>\n",
       "  <tbody>\n",
       "    <tr>\n",
       "      <th>0</th>\n",
       "      <td>M</td>\n",
       "      <td>2.0</td>\n",
       "      <td>0.0</td>\n",
       "      <td>0.0</td>\n",
       "      <td>1.0</td>\n",
       "      <td>0.0</td>\n",
       "      <td>1.0</td>\n",
       "    </tr>\n",
       "    <tr>\n",
       "      <th>1</th>\n",
       "      <td>M</td>\n",
       "      <td>2.0</td>\n",
       "      <td>0.0</td>\n",
       "      <td>0.0</td>\n",
       "      <td>1.0</td>\n",
       "      <td>0.0</td>\n",
       "      <td>1.0</td>\n",
       "    </tr>\n",
       "    <tr>\n",
       "      <th>2</th>\n",
       "      <td>F</td>\n",
       "      <td>0.0</td>\n",
       "      <td>1.0</td>\n",
       "      <td>0.0</td>\n",
       "      <td>0.0</td>\n",
       "      <td>0.0</td>\n",
       "      <td>0.0</td>\n",
       "    </tr>\n",
       "    <tr>\n",
       "      <th>3</th>\n",
       "      <td>M</td>\n",
       "      <td>2.0</td>\n",
       "      <td>0.0</td>\n",
       "      <td>0.0</td>\n",
       "      <td>1.0</td>\n",
       "      <td>0.0</td>\n",
       "      <td>1.0</td>\n",
       "    </tr>\n",
       "    <tr>\n",
       "      <th>4</th>\n",
       "      <td>I</td>\n",
       "      <td>1.0</td>\n",
       "      <td>0.0</td>\n",
       "      <td>1.0</td>\n",
       "      <td>0.0</td>\n",
       "      <td>1.0</td>\n",
       "      <td>0.0</td>\n",
       "    </tr>\n",
       "    <tr>\n",
       "      <th>...</th>\n",
       "      <td>...</td>\n",
       "      <td>...</td>\n",
       "      <td>...</td>\n",
       "      <td>...</td>\n",
       "      <td>...</td>\n",
       "      <td>...</td>\n",
       "      <td>...</td>\n",
       "    </tr>\n",
       "    <tr>\n",
       "      <th>4172</th>\n",
       "      <td>F</td>\n",
       "      <td>0.0</td>\n",
       "      <td>1.0</td>\n",
       "      <td>0.0</td>\n",
       "      <td>0.0</td>\n",
       "      <td>0.0</td>\n",
       "      <td>0.0</td>\n",
       "    </tr>\n",
       "    <tr>\n",
       "      <th>4173</th>\n",
       "      <td>M</td>\n",
       "      <td>2.0</td>\n",
       "      <td>0.0</td>\n",
       "      <td>0.0</td>\n",
       "      <td>1.0</td>\n",
       "      <td>0.0</td>\n",
       "      <td>1.0</td>\n",
       "    </tr>\n",
       "    <tr>\n",
       "      <th>4174</th>\n",
       "      <td>M</td>\n",
       "      <td>2.0</td>\n",
       "      <td>0.0</td>\n",
       "      <td>0.0</td>\n",
       "      <td>1.0</td>\n",
       "      <td>0.0</td>\n",
       "      <td>1.0</td>\n",
       "    </tr>\n",
       "    <tr>\n",
       "      <th>4175</th>\n",
       "      <td>F</td>\n",
       "      <td>0.0</td>\n",
       "      <td>1.0</td>\n",
       "      <td>0.0</td>\n",
       "      <td>0.0</td>\n",
       "      <td>0.0</td>\n",
       "      <td>0.0</td>\n",
       "    </tr>\n",
       "    <tr>\n",
       "      <th>4176</th>\n",
       "      <td>M</td>\n",
       "      <td>2.0</td>\n",
       "      <td>0.0</td>\n",
       "      <td>0.0</td>\n",
       "      <td>1.0</td>\n",
       "      <td>0.0</td>\n",
       "      <td>1.0</td>\n",
       "    </tr>\n",
       "  </tbody>\n",
       "</table>\n",
       "<p>4177 rows × 7 columns</p>\n",
       "</div>"
      ],
      "text/plain": [
       "     sex  label    F    I    M   D1   D2\n",
       "0      M    2.0  0.0  0.0  1.0  0.0  1.0\n",
       "1      M    2.0  0.0  0.0  1.0  0.0  1.0\n",
       "2      F    0.0  1.0  0.0  0.0  0.0  0.0\n",
       "3      M    2.0  0.0  0.0  1.0  0.0  1.0\n",
       "4      I    1.0  0.0  1.0  0.0  1.0  0.0\n",
       "...   ..    ...  ...  ...  ...  ...  ...\n",
       "4172   F    0.0  1.0  0.0  0.0  0.0  0.0\n",
       "4173   M    2.0  0.0  0.0  1.0  0.0  1.0\n",
       "4174   M    2.0  0.0  0.0  1.0  0.0  1.0\n",
       "4175   F    0.0  1.0  0.0  0.0  0.0  0.0\n",
       "4176   M    2.0  0.0  0.0  1.0  0.0  1.0\n",
       "\n",
       "[4177 rows x 7 columns]"
      ]
     },
     "execution_count": 12,
     "metadata": {},
     "output_type": "execute_result"
    }
   ],
   "source": [
    "# Initialize a binary encoder function and fit to the abalone_sex data\n",
    "binary_encoder = OneHotEncoder(drop='first', sparse=False)\n",
    "binary_labels = pd.DataFrame(binary_encoder.fit_transform(abalone_sex[['sex']]),columns=['D1','D2'])\n",
    "abalone_sex = abalone_sex.join(binary_labels)\n",
    "abalone_sex"
   ]
  },
  {
   "cell_type": "code",
   "execution_count": 13,
   "id": "17404b1e-4c9e-4025-b7b7-8e65100bf5f1",
   "metadata": {
    "execution": {
     "iopub.execute_input": "2023-12-14T17:08:21.686864Z",
     "iopub.status.busy": "2023-12-14T17:08:21.686782Z",
     "iopub.status.idle": "2023-12-14T17:08:21.688827Z",
     "shell.execute_reply": "2023-12-14T17:08:21.688584Z"
    }
   },
   "outputs": [
    {
     "data": {
      "text/plain": [
       "array([['M'],\n",
       "       ['F'],\n",
       "       ['I']], dtype='<U1')"
      ]
     },
     "execution_count": 13,
     "metadata": {},
     "output_type": "execute_result"
    }
   ],
   "source": [
    "data"
   ]
  },
  {
   "cell_type": "code",
   "execution_count": 14,
   "id": "3dbb26c1-6fdf-451d-b501-6fb6dfbe76c3",
   "metadata": {
    "execution": {
     "iopub.execute_input": "2023-12-14T17:08:21.690235Z",
     "iopub.status.busy": "2023-12-14T17:08:21.690158Z",
     "iopub.status.idle": "2023-12-14T17:08:21.692481Z",
     "shell.execute_reply": "2023-12-14T17:08:21.692266Z"
    }
   },
   "outputs": [
    {
     "name": "stderr",
     "output_type": "stream",
     "text": [
      "/nix/store/msas3yllgpa9cv1srn6gxry7ygra9hwm-python3-3.10.9-env/lib/python3.10/site-packages/sklearn/preprocessing/_encoders.py:828: FutureWarning: `sparse` was renamed to `sparse_output` in version 1.2 and will be removed in 1.4. `sparse_output` is ignored unless you leave `sparse` to its default value.\n",
      "  warnings.warn(\n"
     ]
    },
    {
     "data": {
      "text/plain": [
       "array([[0., 1.],\n",
       "       [0., 0.],\n",
       "       [1., 0.]])"
      ]
     },
     "execution_count": 14,
     "metadata": {},
     "output_type": "execute_result"
    }
   ],
   "source": [
    "binary_encoder.fit_transform(data)"
   ]
  }
 ],
 "metadata": {
  "kernelspec": {
   "display_name": "Python 3 - python3",
   "language": "python3",
   "name": "python3"
  },
  "language_info": {
   "codemirror_mode": {
    "name": "ipython",
    "version": 3
   },
   "file_extension": ".py",
   "mimetype": "text/x-python",
   "name": "python",
   "nbconvert_exporter": "python",
   "pygments_lexer": "ipython3",
   "version": "3.12.4"
  }
 },
 "nbformat": 4,
 "nbformat_minor": 5
}
